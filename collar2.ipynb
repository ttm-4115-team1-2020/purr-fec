{
 "cells": [
  {
   "cell_type": "code",
   "execution_count": 2,
   "metadata": {
    "scrolled": true
   },
   "outputs": [
    {
     "name": "stderr",
     "output_type": "stream",
     "text": [
      "2020-04-28 10:06:19,255 - __main__     - INFO     - Starting Component\n",
      "2020-04-28 10:06:19,257 - __main__     - DEBUG    - Connecting to MQTT broker mqtt.item.ntnu.no at port 1883\n",
      "2020-04-28 10:06:19,350 - __main__     - DEBUG    - MQTT connected to <paho.mqtt.client.Client object at 0x7f53f904a4e0>\n",
      "2020-04-28 10:06:19,350 __main__:DEBUG MQTT connected to <paho.mqtt.client.Client object at 0x7f53f904a4e0>\n",
      "2020-04-28 10:06:19,379 appJar:WARNING [799/_checkMode]: Interactive mode is not fully tested, some features might not work.\n",
      "2020-04-28 10:06:19,397 appJar:WARNING [810/_checkMode]: iPython is not fully tested, some features might not work.\n"
     ]
    },
    {
     "name": "stdout",
     "output_type": "stream",
     "text": [
      "logging under name __main__.\n"
     ]
    },
    {
     "name": "stderr",
     "output_type": "stream",
     "text": [
      "2020-04-28 10:06:28,294 - __main__     - DEBUG    - Incoming message to topic ttm4115/team_1/collar\n"
     ]
    },
    {
     "name": "stdout",
     "output_type": "stream",
     "text": [
      "{'command': 'cat_in', 'name': 'Kitty'}\n",
      "Should start nowstarting\n",
      "\n"
     ]
    },
    {
     "name": "stderr",
     "output_type": "stream",
     "text": [
      "2020-04-28 10:06:38,257 - __main__     - DEBUG    - Incoming message to topic ttm4115/team_1/collar\n"
     ]
    },
    {
     "name": "stdout",
     "output_type": "stream",
     "text": [
      "{'command': 'cat_in', 'name': 'Kitty'}\n",
      "Kitty cat is home\n"
     ]
    },
    {
     "name": "stderr",
     "output_type": "stream",
     "text": [
      "2020-04-28 10:06:46,144 - __main__     - INFO     - {'command': 'send_data', 'name': 'Kitty', 'lat': '0', 'long': '0'}\n",
      "2020-04-28 10:06:46,373 - __main__     - DEBUG    - Incoming message to topic ttm4115/team_1/collar\n"
     ]
    },
    {
     "name": "stdout",
     "output_type": "stream",
     "text": [
      "{'command': 'cat_in', 'name': 'Kitty'}\n",
      "Kitty cat is home\n"
     ]
    },
    {
     "name": "stderr",
     "output_type": "stream",
     "text": [
      "2020-04-28 10:06:56,146 - __main__     - INFO     - {'command': 'send_data', 'name': 'Kitty', 'lat': '0', 'long': '0'}\n",
      "2020-04-28 10:06:56,430 - __main__     - DEBUG    - Incoming message to topic ttm4115/team_1/collar\n",
      "2020-04-28 10:06:56,480 - __main__     - DEBUG    - Incoming message to topic ttm4115/team_1/collar\n"
     ]
    },
    {
     "name": "stdout",
     "output_type": "stream",
     "text": [
      "{'command': 'cat_in', 'name': 'Kitty'}\n",
      "Kitty cat is home\n",
      "{'command': 'cat_in', 'name': 'Kitty'}\n",
      "Kitty cat is home\n"
     ]
    },
    {
     "name": "stderr",
     "output_type": "stream",
     "text": [
      "2020-04-28 10:07:06,148 - __main__     - INFO     - {'command': 'send_data', 'name': 'Kitty', 'lat': '0', 'long': '0'}\n",
      "2020-04-28 10:07:06,440 - __main__     - DEBUG    - Incoming message to topic ttm4115/team_1/collar\n",
      "2020-04-28 10:07:06,476 - __main__     - DEBUG    - Incoming message to topic ttm4115/team_1/collar\n"
     ]
    },
    {
     "name": "stdout",
     "output_type": "stream",
     "text": [
      "{'command': 'cat_in', 'name': 'Kitty'}\n",
      "Kitty cat is home\n",
      "{'command': 'cat_in', 'name': 'Kitty'}\n",
      "Kitty cat is home\n"
     ]
    },
    {
     "name": "stderr",
     "output_type": "stream",
     "text": [
      "2020-04-28 10:07:16,150 - __main__     - INFO     - {'command': 'send_data', 'name': 'Kitty', 'lat': '0', 'long': '0'}\n",
      "2020-04-28 10:07:16,377 - __main__     - DEBUG    - Incoming message to topic ttm4115/team_1/collar\n"
     ]
    },
    {
     "name": "stdout",
     "output_type": "stream",
     "text": [
      "{'command': 'cat_in', 'name': 'Kitty'}\n",
      "Kitty cat is home\n"
     ]
    },
    {
     "name": "stderr",
     "output_type": "stream",
     "text": [
      "2020-04-28 10:07:26,152 - __main__     - INFO     - {'command': 'send_data', 'name': 'Kitty', 'lat': '0', 'long': '0'}\n",
      "2020-04-28 10:07:26,453 - __main__     - DEBUG    - Incoming message to topic ttm4115/team_1/collar\n",
      "2020-04-28 10:07:26,601 - __main__     - DEBUG    - Incoming message to topic ttm4115/team_1/collar\n"
     ]
    },
    {
     "name": "stdout",
     "output_type": "stream",
     "text": [
      "{'command': 'cat_in', 'name': 'Kitty'}\n",
      "Kitty cat is home\n",
      "{'command': 'cat_in', 'name': 'Kitty'}\n",
      "Kitty cat is home\n"
     ]
    },
    {
     "name": "stderr",
     "output_type": "stream",
     "text": [
      "2020-04-28 10:07:36,154 - __main__     - INFO     - {'command': 'send_data', 'name': 'Kitty', 'lat': '0', 'long': '0'}\n",
      "2020-04-28 10:07:36,348 - __main__     - DEBUG    - Incoming message to topic ttm4115/team_1/collar\n"
     ]
    },
    {
     "name": "stdout",
     "output_type": "stream",
     "text": [
      "{'command': 'cat_in', 'name': 'Kitty'}\n",
      "Kitty cat is home\n"
     ]
    },
    {
     "name": "stderr",
     "output_type": "stream",
     "text": [
      "2020-04-28 10:07:46,156 - __main__     - INFO     - {'command': 'send_data', 'name': 'Kitty', 'lat': '0', 'long': '0'}\n",
      "2020-04-28 10:07:46,337 - __main__     - DEBUG    - Incoming message to topic ttm4115/team_1/collar\n",
      "2020-04-28 10:07:46,459 - __main__     - DEBUG    - Incoming message to topic ttm4115/team_1/collar\n"
     ]
    },
    {
     "name": "stdout",
     "output_type": "stream",
     "text": [
      "{'command': 'cat_in', 'name': 'Kitty'}\n",
      "Kitty cat is home\n",
      "{'command': 'cat_in', 'name': 'Kitty'}\n",
      "Kitty cat is home\n"
     ]
    },
    {
     "name": "stderr",
     "output_type": "stream",
     "text": [
      "2020-04-28 10:07:56,159 - __main__     - INFO     - {'command': 'send_data', 'name': 'Kitty', 'lat': '0', 'long': '0'}\n",
      "2020-04-28 10:07:56,386 - __main__     - DEBUG    - Incoming message to topic ttm4115/team_1/collar\n"
     ]
    },
    {
     "name": "stdout",
     "output_type": "stream",
     "text": [
      "{'command': 'cat_in', 'name': 'Kitty'}\n",
      "Kitty cat is home\n"
     ]
    },
    {
     "name": "stderr",
     "output_type": "stream",
     "text": [
      "2020-04-28 10:08:06,161 - __main__     - INFO     - {'command': 'send_data', 'name': 'Kitty', 'lat': '0', 'long': '0'}\n",
      "2020-04-28 10:08:06,443 - __main__     - DEBUG    - Incoming message to topic ttm4115/team_1/collar\n",
      "2020-04-28 10:08:06,505 - __main__     - DEBUG    - Incoming message to topic ttm4115/team_1/collar\n"
     ]
    },
    {
     "name": "stdout",
     "output_type": "stream",
     "text": [
      "{'command': 'cat_in', 'name': 'Kitty'}\n",
      "Kitty cat is home\n",
      "{'command': 'cat_in', 'name': 'Kitty'}\n",
      "Kitty cat is home\n"
     ]
    },
    {
     "name": "stderr",
     "output_type": "stream",
     "text": [
      "2020-04-28 10:08:16,163 - __main__     - INFO     - {'command': 'send_data', 'name': 'Kitty', 'lat': '0', 'long': '0'}\n",
      "2020-04-28 10:08:16,349 - __main__     - DEBUG    - Incoming message to topic ttm4115/team_1/collar\n"
     ]
    },
    {
     "name": "stdout",
     "output_type": "stream",
     "text": [
      "{'command': 'cat_in', 'name': 'Kitty'}\n",
      "Kitty cat is home\n"
     ]
    },
    {
     "name": "stderr",
     "output_type": "stream",
     "text": [
      "2020-04-28 10:08:26,165 - __main__     - INFO     - {'command': 'send_data', 'name': 'Kitty', 'lat': '0', 'long': '0'}\n",
      "2020-04-28 10:08:26,552 - __main__     - DEBUG    - Incoming message to topic ttm4115/team_1/collar\n",
      "2020-04-28 10:08:26,683 - __main__     - DEBUG    - Incoming message to topic ttm4115/team_1/collar\n"
     ]
    },
    {
     "name": "stdout",
     "output_type": "stream",
     "text": [
      "{'command': 'cat_in', 'name': 'Kitty'}\n",
      "Kitty cat is home\n",
      "{'command': 'cat_in', 'name': 'Kitty'}\n",
      "Kitty cat is home\n"
     ]
    },
    {
     "name": "stderr",
     "output_type": "stream",
     "text": [
      "2020-04-28 10:08:36,167 - __main__     - INFO     - {'command': 'send_data', 'name': 'Kitty', 'lat': '0', 'long': '0'}\n",
      "2020-04-28 10:08:36,331 - __main__     - DEBUG    - Incoming message to topic ttm4115/team_1/collar\n"
     ]
    },
    {
     "name": "stdout",
     "output_type": "stream",
     "text": [
      "{'command': 'cat_in', 'name': 'Kitty'}\n",
      "Kitty cat is home\n"
     ]
    },
    {
     "name": "stderr",
     "output_type": "stream",
     "text": [
      "2020-04-28 10:08:46,169 - __main__     - INFO     - {'command': 'send_data', 'name': 'Kitty', 'lat': '0', 'long': '0'}\n",
      "2020-04-28 10:08:46,356 - __main__     - DEBUG    - Incoming message to topic ttm4115/team_1/collar\n",
      "2020-04-28 10:08:46,482 - __main__     - DEBUG    - Incoming message to topic ttm4115/team_1/collar\n"
     ]
    },
    {
     "name": "stdout",
     "output_type": "stream",
     "text": [
      "{'command': 'cat_in', 'name': 'Kitty'}\n",
      "Kitty cat is home\n",
      "{'command': 'cat_in', 'name': 'Kitty'}\n",
      "Kitty cat is home\n"
     ]
    },
    {
     "name": "stderr",
     "output_type": "stream",
     "text": [
      "2020-04-28 10:08:56,173 - __main__     - INFO     - {'command': 'send_data', 'name': 'Kitty', 'lat': '0', 'long': '0'}\n",
      "2020-04-28 10:08:56,401 - __main__     - DEBUG    - Incoming message to topic ttm4115/team_1/collar\n"
     ]
    },
    {
     "name": "stdout",
     "output_type": "stream",
     "text": [
      "{'command': 'cat_in', 'name': 'Kitty'}\n",
      "Kitty cat is home\n"
     ]
    },
    {
     "name": "stderr",
     "output_type": "stream",
     "text": [
      "2020-04-28 10:09:06,175 - __main__     - INFO     - {'command': 'send_data', 'name': 'Kitty', 'lat': '0', 'long': '0'}\n",
      "2020-04-28 10:09:06,480 - __main__     - DEBUG    - Incoming message to topic ttm4115/team_1/collar\n",
      "2020-04-28 10:09:06,645 - __main__     - DEBUG    - Incoming message to topic ttm4115/team_1/collar\n"
     ]
    },
    {
     "name": "stdout",
     "output_type": "stream",
     "text": [
      "{'command': 'cat_in', 'name': 'Kitty'}\n",
      "Kitty cat is home\n",
      "{'command': 'cat_in', 'name': 'Kitty'}\n",
      "Kitty cat is home\n"
     ]
    },
    {
     "name": "stderr",
     "output_type": "stream",
     "text": [
      "2020-04-28 10:09:16,177 - __main__     - INFO     - {'command': 'send_data', 'name': 'Kitty', 'lat': '0', 'long': '0'}\n",
      "2020-04-28 10:09:16,438 - __main__     - DEBUG    - Incoming message to topic ttm4115/team_1/collar\n"
     ]
    },
    {
     "name": "stdout",
     "output_type": "stream",
     "text": [
      "{'command': 'cat_in', 'name': 'Kitty'}\n",
      "Kitty cat is home\n"
     ]
    },
    {
     "name": "stderr",
     "output_type": "stream",
     "text": [
      "2020-04-28 10:09:26,179 - __main__     - INFO     - {'command': 'send_data', 'name': 'Kitty', 'lat': '0', 'long': '0'}\n",
      "2020-04-28 10:09:26,454 - __main__     - DEBUG    - Incoming message to topic ttm4115/team_1/collar\n"
     ]
    },
    {
     "name": "stdout",
     "output_type": "stream",
     "text": [
      "{'command': 'cat_in', 'name': 'Kitty'}\n",
      "Kitty cat is home\n"
     ]
    },
    {
     "name": "stderr",
     "output_type": "stream",
     "text": [
      "2020-04-28 10:09:36,181 - __main__     - INFO     - {'command': 'send_data', 'name': 'Kitty', 'lat': '0', 'long': '0'}\n",
      "2020-04-28 10:09:36,553 - __main__     - DEBUG    - Incoming message to topic ttm4115/team_1/collar\n",
      "2020-04-28 10:09:36,596 - __main__     - DEBUG    - Incoming message to topic ttm4115/team_1/collar\n"
     ]
    },
    {
     "name": "stdout",
     "output_type": "stream",
     "text": [
      "{'command': 'cat_in', 'name': 'Kitty'}\n",
      "Kitty cat is home\n",
      "{'command': 'cat_in', 'name': 'Kitty'}\n",
      "Kitty cat is home\n"
     ]
    },
    {
     "name": "stderr",
     "output_type": "stream",
     "text": [
      "2020-04-28 10:09:46,183 - __main__     - INFO     - {'command': 'send_data', 'name': 'Kitty', 'lat': '0', 'long': '0'}\n",
      "2020-04-28 10:09:46,382 - __main__     - DEBUG    - Incoming message to topic ttm4115/team_1/collar\n"
     ]
    },
    {
     "name": "stdout",
     "output_type": "stream",
     "text": [
      "{'command': 'cat_in', 'name': 'Kitty'}\n",
      "Kitty cat is home\n"
     ]
    },
    {
     "name": "stderr",
     "output_type": "stream",
     "text": [
      "2020-04-28 10:09:56,185 - __main__     - INFO     - {'command': 'send_data', 'name': 'Kitty', 'lat': '0', 'long': '0'}\n",
      "2020-04-28 10:09:56,431 - __main__     - DEBUG    - Incoming message to topic ttm4115/team_1/collar\n",
      "2020-04-28 10:09:56,471 - __main__     - DEBUG    - Incoming message to topic ttm4115/team_1/collar\n"
     ]
    },
    {
     "name": "stdout",
     "output_type": "stream",
     "text": [
      "{'command': 'cat_in', 'name': 'Kitty'}\n",
      "Kitty cat is home\n",
      "{'command': 'cat_in', 'name': 'Kitty'}\n",
      "Kitty cat is home\n"
     ]
    },
    {
     "name": "stderr",
     "output_type": "stream",
     "text": [
      "2020-04-28 10:10:06,187 - __main__     - INFO     - {'command': 'send_data', 'name': 'Kitty', 'lat': '0', 'long': '0'}\n",
      "2020-04-28 10:10:06,365 - __main__     - DEBUG    - Incoming message to topic ttm4115/team_1/collar\n"
     ]
    },
    {
     "name": "stdout",
     "output_type": "stream",
     "text": [
      "{'command': 'cat_in', 'name': 'Kitty'}\n",
      "Kitty cat is home\n"
     ]
    },
    {
     "name": "stderr",
     "output_type": "stream",
     "text": [
      "2020-04-28 10:10:10,777 - __main__     - DEBUG    - Incoming message to topic ttm4115/team_1/collar\n"
     ]
    },
    {
     "name": "stdout",
     "output_type": "stream",
     "text": [
      "{'command': 'cat_in', 'name': 'Kitty'}\n",
      "Kitty cat is home\n"
     ]
    },
    {
     "name": "stderr",
     "output_type": "stream",
     "text": [
      "2020-04-28 10:10:16,189 - __main__     - INFO     - {'command': 'send_data', 'name': 'Kitty', 'lat': '0', 'long': '0'}\n",
      "2020-04-28 10:10:20,699 - __main__     - DEBUG    - Incoming message to topic ttm4115/team_1/collar\n"
     ]
    },
    {
     "name": "stdout",
     "output_type": "stream",
     "text": [
      "{'command': 'cat_in', 'name': 'Kitty'}\n",
      "Kitty cat is home\n"
     ]
    },
    {
     "name": "stderr",
     "output_type": "stream",
     "text": [
      "2020-04-28 10:10:26,191 - __main__     - INFO     - {'command': 'send_data', 'name': 'Kitty', 'lat': 's', 'long': '0'}\n",
      "2020-04-28 10:10:30,743 - __main__     - DEBUG    - Incoming message to topic ttm4115/team_1/collar\n"
     ]
    },
    {
     "name": "stdout",
     "output_type": "stream",
     "text": [
      "{'command': 'cat_in', 'name': 'Kitty'}\n",
      "Kitty cat is home\n"
     ]
    },
    {
     "name": "stderr",
     "output_type": "stream",
     "text": [
      "2020-04-28 10:10:36,193 - __main__     - INFO     - {'command': 'send_data', 'name': 'Kitty', 'lat': 's', 'long': '0'}\n"
     ]
    }
   ],
   "source": [
    "import paho.mqtt.client as mqtt\n",
    "import logging\n",
    "import json\n",
    "from appJar import gui\n",
    "from stmpy import Machine, Driver\n",
    "\n",
    "# TODO: choose proper MQTT broker address\n",
    "MQTT_BROKER = 'mqtt.item.ntnu.no'\n",
    "MQTT_PORT = 1883\n",
    "\n",
    "# TODO: choose proper topics for communication\n",
    "MQTT_TOPIC_INPUT = 'ttm4115/team_1/collar'\n",
    "MQTT_TOPIC_OUTPUT = 'ttm4115/team_1/server'\n",
    "\n",
    "\"\"\"\n",
    "cat_list= [\"Kitty\",\"Mons\",\"Roger\",\"Purr\"]\n",
    "tracked_cat= \"\"\n",
    "\"\"\"\n",
    "class CollarComponent:\n",
    "\n",
    "    def on_connect(self, client, userdata, flags, rc):\n",
    "        # we just log that we are connected\n",
    "        self._logger.debug('MQTT connected to {}'.format(client))\n",
    "\n",
    "    def on_message(self, client, userdata, msg):\n",
    "        self._logger.debug('Incoming message to topic {}'.format(msg.topic))\n",
    "        try:\n",
    "            payload = json.loads(msg.payload.decode(\"utf-8\"))\n",
    "        except Exception as err:\n",
    "            self._logger.error('Message not able to unwrap')\n",
    "            return\n",
    "        \n",
    "        # extract command\n",
    "        command=payload.get('command')\n",
    "        print(payload)\n",
    "        if self.tracked_cat==payload.get('name'):\n",
    "            if command == \"cat_in\":\n",
    "                print(payload.get('name') + \" cat is home\")\n",
    "                self.stm.send('cat_in')\n",
    "            if command == \"cat_inside_fence\":\n",
    "                print(payload.get('name') + \" cat is inside fence\")\n",
    "                self.stm.send('inside_fence')\n",
    "            if command == \"cat_outside_fence\":\n",
    "                print(payload.get('name') + \" cat is outside fence\")\n",
    "                self.stm.send('outside_fence')\n",
    "            if command == \"start_tracking\":\n",
    "                print(payload.get('name') + \" cat is tracked\")\n",
    "                self.stm.send('start_tracking')\n",
    "        else:\n",
    "            print(\"Not tracked cat, ignoring command\")\n",
    "    \n",
    "    def publish_command(self, command):\n",
    "        payload = json.dumps(command)\n",
    "        self._logger.info(command)\n",
    "        self.mqtt_client.publish(MQTT_TOPIC_OUTPUT, payload=payload, qos=2)\n",
    "\n",
    "\n",
    "    def __init__(self):\n",
    "        # get the logger object for the component\n",
    "        self._logger = logging.getLogger(__name__)\n",
    "        print('logging under name {}.'.format(__name__))\n",
    "        self._logger.info('Starting Component')\n",
    "\n",
    "        # create a new MQTT client\n",
    "        self._logger.debug('Connecting to MQTT broker {} at port {}'.format(MQTT_BROKER, MQTT_PORT))\n",
    "        self.mqtt_client = mqtt.Client()\n",
    "        # callback methods\n",
    "        self.mqtt_client.on_connect = self.on_connect\n",
    "        self.mqtt_client.on_message = self.on_message\n",
    "        # Connect to the broker\n",
    "        self.mqtt_client.connect(MQTT_BROKER, MQTT_PORT)\n",
    "        # Subscribe to proper topic\n",
    "        self.mqtt_client.subscribe(MQTT_TOPIC_INPUT)\n",
    "        # start the internal loop to process MQTT messages\n",
    "        self.mqtt_client.loop_start()\n",
    "        self.create_gui()\n",
    "        self.lat=0\n",
    "        self.long=0\n",
    "\n",
    "        \n",
    "        \n",
    "    def create_gui(self):\n",
    "        self.app = gui(\"Collar GUI\")\n",
    "        \n",
    "        \"\"\"CARL\n",
    "        def on_button_pressed(button):\n",
    "            self.stm.send('start')\n",
    "            self.tracked_cat= self.app.getRadioButton(\"Gato\")\n",
    "            print('Tracked cat is {} '.format(self.tracked_cat))\n",
    "            self.app.showSubWindow(\"Cat\")\n",
    "        \"\"\"\n",
    "        ###OLE START-----------------------\n",
    "        def on_btn_update_pressed():\n",
    "            self.lat=self.app.getEntry(\"Lat\")\n",
    "            self.long=self.app.getEntry(\"Long\")\n",
    "            \n",
    "        def on_btn_start_pressed():\n",
    "            self.driver = Driver()\n",
    "            self.stm = Machine(name='stm_collar', \n",
    "                                 transitions=[t0, t_start, t1, t2, t3, t4, t5, t6, t7, t8, t9], \n",
    "                                 obj=self, \n",
    "                                 states=[idle, low_freq, norm_freq, high_freq])\n",
    "            self.driver.add_machine(self.stm)\n",
    "            self.driver.start()\n",
    "            self.tracked_cat=self.app.getEntry(\"Name\")\n",
    "            #self.rfid=self.app.getEntry(\"Rfid\")\n",
    "            self.app.hide()\n",
    "            self.app.showSubWindow(\"Cat\")\n",
    "            self.stm.send(\"start\")\n",
    "            print(\"Should start now\")\n",
    "            \n",
    "        def on_close(self):\n",
    "            self.app.close\n",
    "            \n",
    "        ###OLE END-------------------------\n",
    "            \n",
    "        #Main Window\n",
    "        \"\"\"CARL\n",
    "        for i in cat_list:\n",
    "            self.app.addRadioButton(\"Gato\", '{}'.format(i))\n",
    "        self.app.addButton('Choose Cat', on_button_start_pressed)\n",
    "        \"\"\"\n",
    "    \n",
    "        #OLE START-------------------------\n",
    "        #self.app.startSubWindow(\"Start\")\n",
    "        self.app.setBg(\"lightsalmon\")\n",
    "        self.app.setSize(\"200x200\")\n",
    "        self.app.addLabelEntry(\"Name\")\n",
    "        #self.app.addLabelEntry(\"Rfid\")\n",
    "        self.app.addButton(\"Start Collar\",on_btn_start_pressed)\n",
    "        #self.app.stopSubWindow()\n",
    "        #END OLE---------------------\n",
    "        \n",
    "        #Pop up window\n",
    "        self.app.setBg(\"lightsalmon\")\n",
    "        self.app.setSize(\"200x200\")\n",
    "        self.app.startSubWindow(\"Cat\")\n",
    "        self.app.addLabelEntry(\"Lat\")\n",
    "        self.app.addLabelEntry(\"Long\")\n",
    "        self.app.addButton(\"Update\", on_btn_update_pressed)\n",
    "        self.app.addButton('QUIT', self.app.stop)\n",
    "        self.app.stopSubWindow()\n",
    "    \n",
    "    def test(self):\n",
    "        print(\"starting\")\n",
    "    \n",
    "    def send_data(self):\n",
    "        cat= self.tracked_cat\n",
    "        lat= self.lat\n",
    "        long= self.long\n",
    "        command= {\"command\":\"send_data\",\"name\":cat, \"lat\":lat, \"long\":long}\n",
    "        self.publish_command(command)\n",
    "        \n",
    "t0 = {'source': 'initial',\n",
    "       'target': 'idle',\n",
    "        'trigger':'you_there'}\n",
    "\n",
    "t_start = {'trigger': 'start',\n",
    "            'source': 'idle',\n",
    "            'target': 'low_freq',\n",
    "            'effect': 'test'}\n",
    "\n",
    "t1 = {'trigger': 't',\n",
    "       'source': 'low_freq',\n",
    "       'target': 'low_freq',\n",
    "       'effect': 'send_data'}\n",
    "\n",
    "t2 = {'trigger': 'inside_fence',\n",
    "       'source': 'low_freq',\n",
    "       'target': 'norm_freq'}\n",
    "\n",
    "t3 = {'trigger': 't',\n",
    "       'source': 'norm_freq',\n",
    "       'target': 'norm_freq',\n",
    "       'effect': 'send_data'}\n",
    "\n",
    "t4 = {'trigger': 'cat_in',\n",
    "       'source': 'norm_freq',\n",
    "       'target': 'low_freq'}\n",
    "\n",
    "t5 = {'trigger': 'start_tracking',\n",
    "       'source': 'norm_freq',\n",
    "       'target': 'high_freq'}\n",
    "\n",
    "t6 = {'trigger': 'outside_fence',\n",
    "       'source': 'norm_freq',\n",
    "       'target': 'high_freq'}\n",
    "\n",
    "t7 = {'trigger': 't',\n",
    "       'source': 'high_freq',\n",
    "       'target': 'high_freq',\n",
    "       'effect': 'send_data'}\n",
    "\n",
    "t8 = {'trigger': 'cat_in',\n",
    "       'source': 'high_freq',\n",
    "       'target': 'low_freq'}\n",
    "\n",
    "t9 = {'trigger': 'inside_fence',\n",
    "       'source': 'high_freq',\n",
    "       'target': 'norm_freq'}\n",
    "\n",
    "idle = {'name': 'idle'}\n",
    "\n",
    "low_freq = {'name': 'low_freq',\n",
    "        'entry': 'start_timer(\"t\", 10000)'}\n",
    "\n",
    "norm_freq = {'name': 'norm_freq',\n",
    "        'entry': 'start_timer(\"t\", 5000)'}\n",
    "\n",
    "high_freq = {'name': 'high_freq',\n",
    "        'entry': 'start_timer(\"t\", 1000)'}\n",
    "\n",
    "\n",
    "debug_level = logging.DEBUG\n",
    "logger = logging.getLogger(__name__)\n",
    "logger.setLevel(debug_level)\n",
    "ch = logging.StreamHandler()\n",
    "ch.setLevel(debug_level)\n",
    "formatter = logging.Formatter('%(asctime)s - %(name)-12s - %(levelname)-8s - %(message)s')\n",
    "ch.setFormatter(formatter)\n",
    "logger.addHandler(ch)\n",
    "\n",
    "c = CollarComponent()\n",
    "\"\"\"\n",
    "stm_collar = Machine(name='stm_collar', transitions=[t0, t_start, t1, t2, t3, t4, t5, t6, t7, t8, t9], obj=c, states=[idle, low_freq, norm_freq, high_freq])\n",
    "c.stm = stm_collar\n",
    "driver = Driver()\n",
    "driver.add_machine(stm_collar)\n",
    "driver.start()\n",
    "\"\"\"\n",
    "\n",
    "c.app.go()\n",
    "\n",
    "c.mqtt_client.loop_stop()\n",
    "c.driver.stop()\n"
   ]
  },
  {
   "cell_type": "code",
   "execution_count": null,
   "metadata": {},
   "outputs": [],
   "source": []
  },
  {
   "cell_type": "code",
   "execution_count": null,
   "metadata": {},
   "outputs": [],
   "source": []
  }
 ],
 "metadata": {
  "kernelspec": {
   "display_name": "Python 3",
   "language": "python",
   "name": "python3"
  },
  "language_info": {
   "codemirror_mode": {
    "name": "ipython",
    "version": 3
   },
   "file_extension": ".py",
   "mimetype": "text/x-python",
   "name": "python",
   "nbconvert_exporter": "python",
   "pygments_lexer": "ipython3",
   "version": "3.6.9"
  }
 },
 "nbformat": 4,
 "nbformat_minor": 4
}

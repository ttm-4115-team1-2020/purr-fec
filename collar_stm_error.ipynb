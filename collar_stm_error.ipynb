{
 "cells": [
  {
   "cell_type": "code",
   "execution_count": 3,
   "metadata": {},
   "outputs": [
    {
     "name": "stderr",
     "output_type": "stream",
     "text": [
      "2020-04-21 12:31:49,666 - __main__     - INFO     - Starting Component\n",
      "2020-04-21 12:31:49,666 - __main__     - INFO     - Starting Component\n",
      "2020-04-21 12:31:49,666 - __main__     - INFO     - Starting Component\n",
      "2020-04-21 12:31:49,672 - __main__     - DEBUG    - Connecting to MQTT broker mqtt.item.ntnu.no at port 1883\n",
      "2020-04-21 12:31:49,672 - __main__     - DEBUG    - Connecting to MQTT broker mqtt.item.ntnu.no at port 1883\n",
      "2020-04-21 12:31:49,672 - __main__     - DEBUG    - Connecting to MQTT broker mqtt.item.ntnu.no at port 1883\n",
      "2020-04-21 12:31:49,719 - __main__     - DEBUG    - MQTT connected to <paho.mqtt.client.Client object at 0x084DC088>\n",
      "2020-04-21 12:31:49,719 - __main__     - DEBUG    - MQTT connected to <paho.mqtt.client.Client object at 0x084DC088>\n",
      "2020-04-21 12:31:49,719 - __main__     - DEBUG    - MQTT connected to <paho.mqtt.client.Client object at 0x084DC088>\n"
     ]
    },
    {
     "name": "stdout",
     "output_type": "stream",
     "text": [
      "logging under name __main__.\n"
     ]
    },
    {
     "name": "stderr",
     "output_type": "stream",
     "text": [
      "Exception in Tkinter callback\n",
      "Traceback (most recent call last):\n",
      "  File \"c:\\users\\carle\\appdata\\local\\programs\\python\\python38-32\\lib\\tkinter\\__init__.py\", line 1883, in __call__\n",
      "    return self.func(*args)\n",
      "  File \"c:\\users\\carle\\appdata\\local\\programs\\python\\python38-32\\lib\\site-packages\\appJar\\appjar.py\", line 3783, in <lambda>\n",
      "    return lambda *args: funcName(param)\n",
      "  File \"<ipython-input-3-1679818ed8fa>\", line 86, in btn_press\n",
      "    self.stm.send('start')\n",
      "AttributeError: 'CollarComponent' object has no attribute 'stm'\n"
     ]
    },
    {
     "ename": "TclError",
     "evalue": "invalid command name \".!menu\"",
     "output_type": "error",
     "traceback": [
      "\u001b[1;31m---------------------------------------------------------------------------\u001b[0m",
      "\u001b[1;31mTclError\u001b[0m                                  Traceback (most recent call last)",
      "\u001b[1;32m<ipython-input-3-1679818ed8fa>\u001b[0m in \u001b[0;36m<module>\u001b[1;34m\u001b[0m\n\u001b[0;32m    204\u001b[0m \u001b[0mdriver\u001b[0m\u001b[1;33m.\u001b[0m\u001b[0mstart\u001b[0m\u001b[1;33m(\u001b[0m\u001b[1;33m)\u001b[0m\u001b[1;33m\u001b[0m\u001b[1;33m\u001b[0m\u001b[0m\n\u001b[0;32m    205\u001b[0m \u001b[1;33m\u001b[0m\u001b[0m\n\u001b[1;32m--> 206\u001b[1;33m \u001b[0mc\u001b[0m\u001b[1;33m.\u001b[0m\u001b[0mapp\u001b[0m\u001b[1;33m.\u001b[0m\u001b[0mgo\u001b[0m\u001b[1;33m(\u001b[0m\u001b[1;33m)\u001b[0m\u001b[1;33m\u001b[0m\u001b[1;33m\u001b[0m\u001b[0m\n\u001b[0m",
      "\u001b[1;32mc:\\users\\carle\\appdata\\local\\programs\\python\\python38-32\\lib\\site-packages\\appJar\\appjar.py\u001b[0m in \u001b[0;36mgo\u001b[1;34m(self, language, startWindow)\u001b[0m\n\u001b[0;32m   1830\u001b[0m \u001b[1;33m\u001b[0m\u001b[0m\n\u001b[0;32m   1831\u001b[0m         \u001b[1;32mif\u001b[0m \u001b[0mself\u001b[0m\u001b[1;33m.\u001b[0m\u001b[0mplatform\u001b[0m \u001b[1;33m==\u001b[0m \u001b[0mself\u001b[0m\u001b[1;33m.\u001b[0m\u001b[0mWINDOWS\u001b[0m\u001b[1;33m:\u001b[0m\u001b[1;33m\u001b[0m\u001b[1;33m\u001b[0m\u001b[0m\n\u001b[1;32m-> 1832\u001b[1;33m             \u001b[0mself\u001b[0m\u001b[1;33m.\u001b[0m\u001b[0mmenuBar\u001b[0m\u001b[1;33m.\u001b[0m\u001b[0madd_cascade\u001b[0m\u001b[1;33m(\u001b[0m\u001b[0mmenu\u001b[0m\u001b[1;33m=\u001b[0m\u001b[0mself\u001b[0m\u001b[1;33m.\u001b[0m\u001b[0mwidgetManager\u001b[0m\u001b[1;33m.\u001b[0m\u001b[0mget\u001b[0m\u001b[1;33m(\u001b[0m\u001b[0mWIDGET_NAMES\u001b[0m\u001b[1;33m.\u001b[0m\u001b[0mMenu\u001b[0m\u001b[1;33m,\u001b[0m \u001b[1;34m\"WIN_SYS\"\u001b[0m\u001b[1;33m)\u001b[0m\u001b[1;33m)\u001b[0m\u001b[1;33m\u001b[0m\u001b[1;33m\u001b[0m\u001b[0m\n\u001b[0m\u001b[0;32m   1833\u001b[0m         \u001b[0mself\u001b[0m\u001b[1;33m.\u001b[0m\u001b[0mtopLevel\u001b[0m\u001b[1;33m.\u001b[0m\u001b[0mconfig\u001b[0m\u001b[1;33m(\u001b[0m\u001b[0mmenu\u001b[0m\u001b[1;33m=\u001b[0m\u001b[0mself\u001b[0m\u001b[1;33m.\u001b[0m\u001b[0mmenuBar\u001b[0m\u001b[1;33m)\u001b[0m\u001b[1;33m\u001b[0m\u001b[1;33m\u001b[0m\u001b[0m\n\u001b[0;32m   1834\u001b[0m \u001b[1;33m\u001b[0m\u001b[0m\n",
      "\u001b[1;32mc:\\users\\carle\\appdata\\local\\programs\\python\\python38-32\\lib\\tkinter\\__init__.py\u001b[0m in \u001b[0;36madd_cascade\u001b[1;34m(self, cnf, **kw)\u001b[0m\n\u001b[0;32m   3287\u001b[0m     \u001b[1;32mdef\u001b[0m \u001b[0madd_cascade\u001b[0m\u001b[1;33m(\u001b[0m\u001b[0mself\u001b[0m\u001b[1;33m,\u001b[0m \u001b[0mcnf\u001b[0m\u001b[1;33m=\u001b[0m\u001b[1;33m{\u001b[0m\u001b[1;33m}\u001b[0m\u001b[1;33m,\u001b[0m \u001b[1;33m**\u001b[0m\u001b[0mkw\u001b[0m\u001b[1;33m)\u001b[0m\u001b[1;33m:\u001b[0m\u001b[1;33m\u001b[0m\u001b[1;33m\u001b[0m\u001b[0m\n\u001b[0;32m   3288\u001b[0m         \u001b[1;34m\"\"\"Add hierarchical menu item.\"\"\"\u001b[0m\u001b[1;33m\u001b[0m\u001b[1;33m\u001b[0m\u001b[0m\n\u001b[1;32m-> 3289\u001b[1;33m         \u001b[0mself\u001b[0m\u001b[1;33m.\u001b[0m\u001b[0madd\u001b[0m\u001b[1;33m(\u001b[0m\u001b[1;34m'cascade'\u001b[0m\u001b[1;33m,\u001b[0m \u001b[0mcnf\u001b[0m \u001b[1;32mor\u001b[0m \u001b[0mkw\u001b[0m\u001b[1;33m)\u001b[0m\u001b[1;33m\u001b[0m\u001b[1;33m\u001b[0m\u001b[0m\n\u001b[0m\u001b[0;32m   3290\u001b[0m \u001b[1;33m\u001b[0m\u001b[0m\n\u001b[0;32m   3291\u001b[0m     \u001b[1;32mdef\u001b[0m \u001b[0madd_checkbutton\u001b[0m\u001b[1;33m(\u001b[0m\u001b[0mself\u001b[0m\u001b[1;33m,\u001b[0m \u001b[0mcnf\u001b[0m\u001b[1;33m=\u001b[0m\u001b[1;33m{\u001b[0m\u001b[1;33m}\u001b[0m\u001b[1;33m,\u001b[0m \u001b[1;33m**\u001b[0m\u001b[0mkw\u001b[0m\u001b[1;33m)\u001b[0m\u001b[1;33m:\u001b[0m\u001b[1;33m\u001b[0m\u001b[1;33m\u001b[0m\u001b[0m\n",
      "\u001b[1;32mc:\\users\\carle\\appdata\\local\\programs\\python\\python38-32\\lib\\tkinter\\__init__.py\u001b[0m in \u001b[0;36madd\u001b[1;34m(self, itemType, cnf, **kw)\u001b[0m\n\u001b[0;32m   3282\u001b[0m     \u001b[1;32mdef\u001b[0m \u001b[0madd\u001b[0m\u001b[1;33m(\u001b[0m\u001b[0mself\u001b[0m\u001b[1;33m,\u001b[0m \u001b[0mitemType\u001b[0m\u001b[1;33m,\u001b[0m \u001b[0mcnf\u001b[0m\u001b[1;33m=\u001b[0m\u001b[1;33m{\u001b[0m\u001b[1;33m}\u001b[0m\u001b[1;33m,\u001b[0m \u001b[1;33m**\u001b[0m\u001b[0mkw\u001b[0m\u001b[1;33m)\u001b[0m\u001b[1;33m:\u001b[0m\u001b[1;33m\u001b[0m\u001b[1;33m\u001b[0m\u001b[0m\n\u001b[0;32m   3283\u001b[0m         \u001b[1;34m\"\"\"Internal function.\"\"\"\u001b[0m\u001b[1;33m\u001b[0m\u001b[1;33m\u001b[0m\u001b[0m\n\u001b[1;32m-> 3284\u001b[1;33m         self.tk.call((self._w, 'add', itemType) +\n\u001b[0m\u001b[0;32m   3285\u001b[0m                  self._options(cnf, kw))\n\u001b[0;32m   3286\u001b[0m \u001b[1;33m\u001b[0m\u001b[0m\n",
      "\u001b[1;31mTclError\u001b[0m: invalid command name \".!menu\""
     ]
    },
    {
     "name": "stderr",
     "output_type": "stream",
     "text": [
      "2020-04-21 12:32:51,209 - __main__     - DEBUG    - Incoming message to topic ttm4115/team_1/collar\n",
      "2020-04-21 12:32:51,209 - __main__     - DEBUG    - Incoming message to topic ttm4115/team_1/collar\n",
      "2020-04-21 12:32:51,210 - __main__     - DEBUG    - Incoming message to topic ttm4115/team_1/collar\n",
      "2020-04-21 12:32:51,209 - __main__     - DEBUG    - Incoming message to topic ttm4115/team_1/collar\n",
      "2020-04-21 12:32:51,210 - __main__     - DEBUG    - Incoming message to topic ttm4115/team_1/collar\n",
      "2020-04-21 12:32:51,210 - __main__     - DEBUG    - Incoming message to topic ttm4115/team_1/collar\n",
      "2020-04-21 12:32:51,210 - __main__     - DEBUG    - Incoming message to topic ttm4115/team_1/collar\n",
      "2020-04-21 12:32:51,210 - __main__     - DEBUG    - Incoming message to topic ttm4115/team_1/collar\n",
      "2020-04-21 12:32:51,210 - __main__     - DEBUG    - Incoming message to topic ttm4115/team_1/collar\n"
     ]
    },
    {
     "name": "stdout",
     "output_type": "stream",
     "text": [
      "Not tracked cat, ignoring command\n",
      "Not tracked cat, ignoring command\n"
     ]
    },
    {
     "name": "stderr",
     "output_type": "stream",
     "text": [
      "2020-04-21 12:32:56,155 - __main__     - DEBUG    - Incoming message to topic ttm4115/team_1/collar\n",
      "2020-04-21 12:32:56,155 - __main__     - DEBUG    - Incoming message to topic ttm4115/team_1/collar\n",
      "2020-04-21 12:32:56,156 - __main__     - DEBUG    - Incoming message to topic ttm4115/team_1/collar\n",
      "2020-04-21 12:32:56,155 - __main__     - DEBUG    - Incoming message to topic ttm4115/team_1/collar\n",
      "2020-04-21 12:32:56,156 - __main__     - DEBUG    - Incoming message to topic ttm4115/team_1/collar\n",
      "2020-04-21 12:32:56,156 - __main__     - DEBUG    - Incoming message to topic ttm4115/team_1/collar\n",
      "2020-04-21 12:32:56,156 - __main__     - DEBUG    - Incoming message to topic ttm4115/team_1/collar\n",
      "2020-04-21 12:32:56,156 - __main__     - DEBUG    - Incoming message to topic ttm4115/team_1/collar\n",
      "2020-04-21 12:32:56,156 - __main__     - DEBUG    - Incoming message to topic ttm4115/team_1/collar\n"
     ]
    },
    {
     "name": "stdout",
     "output_type": "stream",
     "text": [
      "Not tracked cat, ignoring command\n",
      "Not tracked cat, ignoring command\n"
     ]
    },
    {
     "name": "stderr",
     "output_type": "stream",
     "text": [
      "2020-04-21 12:33:01,153 - __main__     - DEBUG    - Incoming message to topic ttm4115/team_1/collar\n",
      "2020-04-21 12:33:01,153 - __main__     - DEBUG    - Incoming message to topic ttm4115/team_1/collar\n",
      "2020-04-21 12:33:01,154 - __main__     - DEBUG    - Incoming message to topic ttm4115/team_1/collar\n",
      "2020-04-21 12:33:01,153 - __main__     - DEBUG    - Incoming message to topic ttm4115/team_1/collar\n",
      "2020-04-21 12:33:01,154 - __main__     - DEBUG    - Incoming message to topic ttm4115/team_1/collar\n",
      "2020-04-21 12:33:01,154 - __main__     - DEBUG    - Incoming message to topic ttm4115/team_1/collar\n",
      "2020-04-21 12:33:01,154 - __main__     - DEBUG    - Incoming message to topic ttm4115/team_1/collar\n",
      "2020-04-21 12:33:01,154 - __main__     - DEBUG    - Incoming message to topic ttm4115/team_1/collar\n",
      "2020-04-21 12:33:01,154 - __main__     - DEBUG    - Incoming message to topic ttm4115/team_1/collar\n"
     ]
    },
    {
     "name": "stdout",
     "output_type": "stream",
     "text": [
      "Not tracked cat, ignoring command\n",
      "Not tracked cat, ignoring command\n"
     ]
    },
    {
     "name": "stderr",
     "output_type": "stream",
     "text": [
      "2020-04-21 12:33:06,154 - __main__     - DEBUG    - Incoming message to topic ttm4115/team_1/collar\n",
      "2020-04-21 12:33:06,154 - __main__     - DEBUG    - Incoming message to topic ttm4115/team_1/collar\n",
      "2020-04-21 12:33:06,155 - __main__     - DEBUG    - Incoming message to topic ttm4115/team_1/collar\n",
      "2020-04-21 12:33:06,154 - __main__     - DEBUG    - Incoming message to topic ttm4115/team_1/collar\n",
      "2020-04-21 12:33:06,155 - __main__     - DEBUG    - Incoming message to topic ttm4115/team_1/collar\n",
      "2020-04-21 12:33:06,155 - __main__     - DEBUG    - Incoming message to topic ttm4115/team_1/collar\n",
      "2020-04-21 12:33:06,155 - __main__     - DEBUG    - Incoming message to topic ttm4115/team_1/collar\n",
      "2020-04-21 12:33:06,155 - __main__     - DEBUG    - Incoming message to topic ttm4115/team_1/collar\n",
      "2020-04-21 12:33:06,155 - __main__     - DEBUG    - Incoming message to topic ttm4115/team_1/collar\n"
     ]
    },
    {
     "name": "stdout",
     "output_type": "stream",
     "text": [
      "Not tracked cat, ignoring command\n",
      "Not tracked cat, ignoring command\n"
     ]
    },
    {
     "name": "stderr",
     "output_type": "stream",
     "text": [
      "2020-04-21 12:33:11,159 - __main__     - DEBUG    - Incoming message to topic ttm4115/team_1/collar\n",
      "2020-04-21 12:33:11,159 - __main__     - DEBUG    - Incoming message to topic ttm4115/team_1/collar\n",
      "2020-04-21 12:33:11,159 - __main__     - DEBUG    - Incoming message to topic ttm4115/team_1/collar\n",
      "2020-04-21 12:33:11,159 - __main__     - DEBUG    - Incoming message to topic ttm4115/team_1/collar\n",
      "2020-04-21 12:33:11,159 - __main__     - DEBUG    - Incoming message to topic ttm4115/team_1/collar\n",
      "2020-04-21 12:33:11,159 - __main__     - DEBUG    - Incoming message to topic ttm4115/team_1/collar\n",
      "2020-04-21 12:33:11,159 - __main__     - DEBUG    - Incoming message to topic ttm4115/team_1/collar\n",
      "2020-04-21 12:33:11,159 - __main__     - DEBUG    - Incoming message to topic ttm4115/team_1/collar\n",
      "2020-04-21 12:33:11,159 - __main__     - DEBUG    - Incoming message to topic ttm4115/team_1/collar\n"
     ]
    },
    {
     "name": "stdout",
     "output_type": "stream",
     "text": [
      "Not tracked cat, ignoring command\n",
      "Not tracked cat, ignoring command\n"
     ]
    },
    {
     "name": "stderr",
     "output_type": "stream",
     "text": [
      "2020-04-21 12:33:16,161 - __main__     - DEBUG    - Incoming message to topic ttm4115/team_1/collar\n",
      "2020-04-21 12:33:16,161 - __main__     - DEBUG    - Incoming message to topic ttm4115/team_1/collar\n",
      "2020-04-21 12:33:16,161 - __main__     - DEBUG    - Incoming message to topic ttm4115/team_1/collar\n",
      "2020-04-21 12:33:16,161 - __main__     - DEBUG    - Incoming message to topic ttm4115/team_1/collar\n",
      "2020-04-21 12:33:16,161 - __main__     - DEBUG    - Incoming message to topic ttm4115/team_1/collar\n",
      "2020-04-21 12:33:16,162 - __main__     - DEBUG    - Incoming message to topic ttm4115/team_1/collar\n",
      "2020-04-21 12:33:16,161 - __main__     - DEBUG    - Incoming message to topic ttm4115/team_1/collar\n",
      "2020-04-21 12:33:16,162 - __main__     - DEBUG    - Incoming message to topic ttm4115/team_1/collar\n",
      "2020-04-21 12:33:16,162 - __main__     - DEBUG    - Incoming message to topic ttm4115/team_1/collar\n"
     ]
    },
    {
     "name": "stdout",
     "output_type": "stream",
     "text": [
      "Not tracked cat, ignoring command\n",
      "Not tracked cat, ignoring command\n"
     ]
    },
    {
     "name": "stderr",
     "output_type": "stream",
     "text": [
      "2020-04-21 12:33:21,156 - __main__     - DEBUG    - Incoming message to topic ttm4115/team_1/collar\n",
      "2020-04-21 12:33:21,156 - __main__     - DEBUG    - Incoming message to topic ttm4115/team_1/collar\n",
      "2020-04-21 12:33:21,157 - __main__     - DEBUG    - Incoming message to topic ttm4115/team_1/collar\n",
      "2020-04-21 12:33:21,156 - __main__     - DEBUG    - Incoming message to topic ttm4115/team_1/collar\n",
      "2020-04-21 12:33:21,157 - __main__     - DEBUG    - Incoming message to topic ttm4115/team_1/collar\n",
      "2020-04-21 12:33:21,157 - __main__     - DEBUG    - Incoming message to topic ttm4115/team_1/collar\n",
      "2020-04-21 12:33:21,157 - __main__     - DEBUG    - Incoming message to topic ttm4115/team_1/collar\n",
      "2020-04-21 12:33:21,157 - __main__     - DEBUG    - Incoming message to topic ttm4115/team_1/collar\n",
      "2020-04-21 12:33:21,157 - __main__     - DEBUG    - Incoming message to topic ttm4115/team_1/collar\n"
     ]
    },
    {
     "name": "stdout",
     "output_type": "stream",
     "text": [
      "Not tracked cat, ignoring command\n",
      "Not tracked cat, ignoring command\n"
     ]
    },
    {
     "name": "stderr",
     "output_type": "stream",
     "text": [
      "2020-04-21 12:33:26,159 - __main__     - DEBUG    - Incoming message to topic ttm4115/team_1/collar\n",
      "2020-04-21 12:33:26,159 - __main__     - DEBUG    - Incoming message to topic ttm4115/team_1/collar\n",
      "2020-04-21 12:33:26,159 - __main__     - DEBUG    - Incoming message to topic ttm4115/team_1/collar\n",
      "2020-04-21 12:33:26,160 - __main__     - DEBUG    - Incoming message to topic ttm4115/team_1/collar\n",
      "2020-04-21 12:33:26,159 - __main__     - DEBUG    - Incoming message to topic ttm4115/team_1/collar\n",
      "2020-04-21 12:33:26,159 - __main__     - DEBUG    - Incoming message to topic ttm4115/team_1/collar\n",
      "2020-04-21 12:33:26,159 - __main__     - DEBUG    - Incoming message to topic ttm4115/team_1/collar\n",
      "2020-04-21 12:33:26,160 - __main__     - DEBUG    - Incoming message to topic ttm4115/team_1/collar\n",
      "2020-04-21 12:33:26,160 - __main__     - DEBUG    - Incoming message to topic ttm4115/team_1/collar\n"
     ]
    },
    {
     "name": "stdout",
     "output_type": "stream",
     "text": [
      "Not tracked cat, ignoring command\n",
      "Not tracked cat, ignoring command\n"
     ]
    },
    {
     "name": "stderr",
     "output_type": "stream",
     "text": [
      "2020-04-21 12:33:31,162 - __main__     - DEBUG    - Incoming message to topic ttm4115/team_1/collar\n",
      "2020-04-21 12:33:31,162 - __main__     - DEBUG    - Incoming message to topic ttm4115/team_1/collar\n",
      "2020-04-21 12:33:31,163 - __main__     - DEBUG    - Incoming message to topic ttm4115/team_1/collar\n",
      "2020-04-21 12:33:31,162 - __main__     - DEBUG    - Incoming message to topic ttm4115/team_1/collar\n",
      "2020-04-21 12:33:31,163 - __main__     - DEBUG    - Incoming message to topic ttm4115/team_1/collar\n",
      "2020-04-21 12:33:31,163 - __main__     - DEBUG    - Incoming message to topic ttm4115/team_1/collar\n",
      "2020-04-21 12:33:31,163 - __main__     - DEBUG    - Incoming message to topic ttm4115/team_1/collar\n",
      "2020-04-21 12:33:31,163 - __main__     - DEBUG    - Incoming message to topic ttm4115/team_1/collar\n",
      "2020-04-21 12:33:31,163 - __main__     - DEBUG    - Incoming message to topic ttm4115/team_1/collar\n"
     ]
    },
    {
     "name": "stdout",
     "output_type": "stream",
     "text": [
      "Not tracked cat, ignoring command\n",
      "Not tracked cat, ignoring command\n"
     ]
    },
    {
     "name": "stderr",
     "output_type": "stream",
     "text": [
      "2020-04-21 12:33:36,181 - __main__     - DEBUG    - Incoming message to topic ttm4115/team_1/collar\n",
      "2020-04-21 12:33:36,181 - __main__     - DEBUG    - Incoming message to topic ttm4115/team_1/collar\n",
      "2020-04-21 12:33:36,181 - __main__     - DEBUG    - Incoming message to topic ttm4115/team_1/collar\n",
      "2020-04-21 12:33:36,181 - __main__     - DEBUG    - Incoming message to topic ttm4115/team_1/collar\n",
      "2020-04-21 12:33:36,181 - __main__     - DEBUG    - Incoming message to topic ttm4115/team_1/collar\n",
      "2020-04-21 12:33:36,182 - __main__     - DEBUG    - Incoming message to topic ttm4115/team_1/collar\n",
      "2020-04-21 12:33:36,181 - __main__     - DEBUG    - Incoming message to topic ttm4115/team_1/collar\n",
      "2020-04-21 12:33:36,182 - __main__     - DEBUG    - Incoming message to topic ttm4115/team_1/collar\n",
      "2020-04-21 12:33:36,182 - __main__     - DEBUG    - Incoming message to topic ttm4115/team_1/collar\n"
     ]
    },
    {
     "name": "stdout",
     "output_type": "stream",
     "text": [
      "Not tracked cat, ignoring command\n",
      "Not tracked cat, ignoring command\n"
     ]
    },
    {
     "name": "stderr",
     "output_type": "stream",
     "text": [
      "2020-04-21 12:33:41,169 - __main__     - DEBUG    - Incoming message to topic ttm4115/team_1/collar\n",
      "2020-04-21 12:33:41,169 - __main__     - DEBUG    - Incoming message to topic ttm4115/team_1/collar\n",
      "2020-04-21 12:33:41,170 - __main__     - DEBUG    - Incoming message to topic ttm4115/team_1/collar\n",
      "2020-04-21 12:33:41,169 - __main__     - DEBUG    - Incoming message to topic ttm4115/team_1/collar\n",
      "2020-04-21 12:33:41,170 - __main__     - DEBUG    - Incoming message to topic ttm4115/team_1/collar\n",
      "2020-04-21 12:33:41,170 - __main__     - DEBUG    - Incoming message to topic ttm4115/team_1/collar\n",
      "2020-04-21 12:33:41,170 - __main__     - DEBUG    - Incoming message to topic ttm4115/team_1/collar\n",
      "2020-04-21 12:33:41,170 - __main__     - DEBUG    - Incoming message to topic ttm4115/team_1/collar\n",
      "2020-04-21 12:33:41,170 - __main__     - DEBUG    - Incoming message to topic ttm4115/team_1/collar\n"
     ]
    },
    {
     "name": "stdout",
     "output_type": "stream",
     "text": [
      "Not tracked cat, ignoring command\n",
      "Not tracked cat, ignoring command\n"
     ]
    }
   ],
   "source": [
    "import paho.mqtt.client as mqtt\n",
    "import logging\n",
    "from threading import Thread\n",
    "import json\n",
    "from appJar import gui\n",
    "from stmpy import Machine, Driver\n",
    "\n",
    "# MQTT broker address\n",
    "MQTT_BROKER = 'mqtt.item.ntnu.no'\n",
    "MQTT_PORT = 1883\n",
    "\n",
    "# Topics for communication\n",
    "MQTT_TOPIC_INPUT = 'ttm4115/team_1/server'\n",
    "MQTT_TOPIC_OUTPUT = 'ttm4115/team_1/collar'\n",
    "\n",
    "cat_list= [\"Kitty\",\"Mons\",\"Roger\",\"Purr\"]\n",
    "tracked_cat= \"\"\n",
    "\n",
    "class CollarComponent:\n",
    "\n",
    "    def on_connect(self, client, userdata, flags, rc):\n",
    "        # we just log that we are connected\n",
    "        self._logger.debug('MQTT connected to {}'.format(client))\n",
    "\n",
    "    def on_message(self, client, userdata, msg):\n",
    "        self._logger.debug('Incoming message to topic {}'.format(msg.topic))\n",
    "        try:\n",
    "            payload = json.loads(msg.payload.decode(\"utf-8\"))\n",
    "        except Exception as err:\n",
    "            self._logger.error('Message not able to unwrap')\n",
    "            return\n",
    "        \n",
    "        # extract command\n",
    "        command=payload.get('command')\n",
    "        \n",
    "        if self.tracked_cat==payload.get('name'):\n",
    "            if command == \"cat_in\":\n",
    "                print(payload.get('name') + \" cat is home\")\n",
    "                self.stm.send('cat_in')\n",
    "            if command == \"cat_inside_fence\":\n",
    "                print(payload.get('name') + \" cat is inside fence\")\n",
    "                self.stm.send('inside_fence')\n",
    "            if command == \"cat_outside_fence\":\n",
    "                print(payload.get('name') + \" cat is outside fence\")\n",
    "                self.stm.send('outside_fence')\n",
    "            if command == \"start_tracking\":\n",
    "                print(payload.get('name') + \" cat is tracked\")\n",
    "                self.stm.send('start_tracking')\n",
    "        else:\n",
    "            print(\"Not tracked cat, ignoring command\")\n",
    "            \n",
    "    def publish_command(self, command, MQTT_TOPIC_INPUT):\n",
    "            payload = json.dumps(command)\n",
    "            self._logger.info(command)\n",
    "            self.mqtt_client.publish(MQTT_TOPIC_INPUT, payload=payload, qos=2)      \n",
    "\n",
    "    def __init__(self):\n",
    "        # get the logger object for the component\n",
    "        self._logger = logging.getLogger(__name__)\n",
    "        print('logging under name {}.'.format(__name__))\n",
    "        self._logger.info('Starting Component')\n",
    "\n",
    "        # create a new MQTT client\n",
    "        self._logger.debug('Connecting to MQTT broker {} at port {}'.format(MQTT_BROKER, MQTT_PORT))\n",
    "        self.mqtt_client = mqtt.Client()\n",
    "        # callback methods\n",
    "        self.mqtt_client.on_connect = self.on_connect\n",
    "        self.mqtt_client.on_message = self.on_message\n",
    "        # Connect to the broker\n",
    "        self.mqtt_client.connect(MQTT_BROKER, MQTT_PORT)\n",
    "        # subscribe to proper topic(s) of your choice\n",
    "        self.mqtt_client.subscribe(MQTT_TOPIC_OUTPUT)\n",
    "        # start the internal loop to process MQTT messages\n",
    "        self.mqtt_client.loop_start()\n",
    "        \n",
    "        self.create_gui()\n",
    "\n",
    "        \n",
    "        \n",
    "\n",
    "    def create_gui(self):\n",
    "        def update(btn):\n",
    "            self.send_data()\n",
    "    \n",
    "        def btn_press(button):\n",
    "            self.stm.send('start')\n",
    "            \n",
    "            if button == \"Choose Cat\":\n",
    "                #NOT WORKING ~ AttributeError: 'CollarComponent' object has no attribute 'stm'\n",
    "                #self.stm.send('start')\n",
    "                self.tracked_cat= self.app.getRadioButton(\"Gato\")\n",
    "                print(\"Tracked cat is \" + self.tracked_cat)\n",
    "                self.app.showSubWindow(\"Cats\")\n",
    "            else:\n",
    "                self.app.stop()\n",
    "\n",
    "        self.app = gui(\"Collar Gui\")\n",
    "        for i in cat_list:\n",
    "            self.app.addRadioButton(\"Gato\", '{}'.format(i))\n",
    "        self.app.addButtons([\"Choose Cat\", \"Cancel\"], btn_press)\n",
    "        \n",
    "        self.app.startSubWindow(\"Cats\")\n",
    "        self.app.addLabelEntry(\"Lat\")\n",
    "        self.app.addLabelEntry(\"Long\")\n",
    "        self.app.addButton(\"Update\", update)\n",
    "        self.app.stopSubWindow()\n",
    "\n",
    "        self.app.go()\n",
    "\n",
    "    #Update of GPS(lat,long) location\n",
    "    def send_data(self):\n",
    "        print('test')\n",
    "        cat= self.app.getRadioButton(\"Gato\")\n",
    "        lat= self.app.getEntry(\"Lat\")\n",
    "        long= self.app.getEntry(\"Long\")\n",
    "        data = '{}: {} {}'.format(cat,lat,long)\n",
    "        print('Location of {}'.format(data))\n",
    "        self.publish_command(data, MQTT_TOPIC_INPUT)\n",
    "        \n",
    "    def test(self):\n",
    "        print(\"starting\")\n",
    "    \n",
    "        \n",
    "\n",
    "\n",
    "t0 = {'source': 'initial',\n",
    "       'target': 'idle'}\n",
    "\n",
    "t_start = {'trigger': 'start',\n",
    "            'source': 'idle',\n",
    "            'target': 'low_freq',\n",
    "            'effect': 'test'}\n",
    "\n",
    "t1 = {'trigger': 't',\n",
    "       'source': 'low_freq',\n",
    "       'target': 'low_freq',\n",
    "       'effect': 'send_data'}\n",
    "\n",
    "t2 = {'trigger': 'inside_fence',\n",
    "       'source': 'low_freq',\n",
    "       'target': 'norm_freq'}\n",
    "\n",
    "t3 = {'trigger': 't',\n",
    "       'source': 'norm_freq',\n",
    "       'target': 'norm_freq',\n",
    "       'effect': 'send_data'}\n",
    "\n",
    "t4 = {'trigger': 'cat_in',\n",
    "       'source': 'norm_freq',\n",
    "       'target': 'low_freq'}\n",
    "\n",
    "t5 = {'trigger': 'start_tracking',\n",
    "       'source': 'norm_freq',\n",
    "       'target': 'high_freq'}\n",
    "\n",
    "t6 = {'trigger': 'outside_fence',\n",
    "       'source': 'norm_freq',\n",
    "       'target': 'high_freq'}\n",
    "\n",
    "t7 = {'trigger': 't',\n",
    "       'source': 'high_freq',\n",
    "       'target': 'high_freq',\n",
    "       'effect': 'send_data'}\n",
    "\n",
    "t8 = {'trigger': 'cat_in',\n",
    "       'source': 'high_freq',\n",
    "       'target': 'low_freq'}\n",
    "\n",
    "t9 = {'trigger': 'inside_fence',\n",
    "       'source': 'high_freq',\n",
    "       'target': 'norm_freq'}\n",
    "\n",
    "idle = {'name': 'idle'}\n",
    "\n",
    "low_freq = {'name': 'low_freq',\n",
    "      'entry': 'start_timer(\"t\", 10000)'}\n",
    "\n",
    "norm_freq = {'name': 'norm_freq',\n",
    "      'entry': 'start_timer(\"t\", 6000)'}\n",
    "\n",
    "high_freq = {'name': 'high_freq',\n",
    "      'entry': 'start_timer(\"t\", 5000)'}\n",
    "\n",
    "\n",
    "# logging.DEBUG: Most fine-grained logging, printing everything\n",
    "# logging.INFO:  Only the most important informational log items\n",
    "# logging.WARN:  Show only warnings and errors.\n",
    "# logging.ERROR: Show only error messages.\n",
    "\n",
    "debug_level = logging.DEBUG\n",
    "logger = logging.getLogger(__name__)\n",
    "logger.setLevel(debug_level)\n",
    "ch = logging.StreamHandler()\n",
    "ch.setLevel(debug_level)\n",
    "formatter = logging.Formatter('%(asctime)s - %(name)-12s - %(levelname)-8s - %(message)s')\n",
    "ch.setFormatter(formatter)\n",
    "logger.addHandler(ch)\n",
    "\n",
    "c = CollarComponent()\n",
    "\n",
    "stm_collar = Machine(name='stm_collar', transitions=[t0, t_start, t1, t2, t3, t4, t5, t6, t7, t8, t9], obj=c, states=[idle, low_freq, norm_freq, high_freq])\n",
    "c.stm = stm_collar\n",
    "driver = Driver()\n",
    "driver.add_machine(stm_collar)\n",
    "driver.start()\n",
    "\n",
    "c.app.go()"
   ]
  },
  {
   "cell_type": "code",
   "execution_count": null,
   "metadata": {},
   "outputs": [],
   "source": []
  },
  {
   "cell_type": "code",
   "execution_count": null,
   "metadata": {},
   "outputs": [],
   "source": []
  }
 ],
 "metadata": {
  "kernelspec": {
   "display_name": "Python 3",
   "language": "python",
   "name": "python3"
  },
  "language_info": {
   "codemirror_mode": {
    "name": "ipython",
    "version": 3
   },
   "file_extension": ".py",
   "mimetype": "text/x-python",
   "name": "python",
   "nbconvert_exporter": "python",
   "pygments_lexer": "ipython3",
   "version": "3.8.1"
  }
 },
 "nbformat": 4,
 "nbformat_minor": 4
}

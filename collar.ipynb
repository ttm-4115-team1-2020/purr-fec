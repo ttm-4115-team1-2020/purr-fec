{
 "cells": [
  {
   "cell_type": "code",
   "execution_count": null,
   "metadata": {
    "scrolled": true
   },
   "outputs": [
    {
     "name": "stderr",
     "output_type": "stream",
     "text": [
      "2020-04-23 12:01:39,379 - __main__     - INFO     - Starting Component\n",
      "2020-04-23 12:01:39,379 - __main__     - INFO     - Starting Component\n",
      "2020-04-23 12:01:39,381 - __main__     - DEBUG    - Connecting to MQTT broker mqtt.item.ntnu.no at port 1883\n",
      "2020-04-23 12:01:39,381 - __main__     - DEBUG    - Connecting to MQTT broker mqtt.item.ntnu.no at port 1883\n",
      "2020-04-23 12:01:39,394 - __main__     - DEBUG    - MQTT connected to <paho.mqtt.client.Client object at 0x06581E80>\n",
      "2020-04-23 12:01:39,394 - __main__     - DEBUG    - MQTT connected to <paho.mqtt.client.Client object at 0x06581E80>\n"
     ]
    },
    {
     "name": "stdout",
     "output_type": "stream",
     "text": [
      "logging under name __main__.\n"
     ]
    },
    {
     "name": "stderr",
     "output_type": "stream",
     "text": [
      "2020-04-23 12:01:39,711 - __main__     - DEBUG    - Incoming message to topic ttm4115/team_1/collar\n",
      "2020-04-23 12:01:39,711 - __main__     - DEBUG    - Incoming message to topic ttm4115/team_1/collar\n",
      "2020-04-23 12:01:39,712 - __main__     - DEBUG    - Incoming message to topic ttm4115/team_1/collar\n",
      "2020-04-23 12:01:39,712 - __main__     - DEBUG    - Incoming message to topic ttm4115/team_1/collar\n"
     ]
    },
    {
     "name": "stdout",
     "output_type": "stream",
     "text": [
      "Not tracked cat, ignoring command\n"
     ]
    },
    {
     "name": "stderr",
     "output_type": "stream",
     "text": [
      "2020-04-23 12:01:43,096 - __main__     - DEBUG    - Incoming message to topic ttm4115/team_1/collar\n",
      "2020-04-23 12:01:43,096 - __main__     - DEBUG    - Incoming message to topic ttm4115/team_1/collar\n",
      "2020-04-23 12:01:43,097 - __main__     - DEBUG    - Incoming message to topic ttm4115/team_1/collar\n",
      "2020-04-23 12:01:43,097 - __main__     - DEBUG    - Incoming message to topic ttm4115/team_1/collar\n"
     ]
    },
    {
     "name": "stdout",
     "output_type": "stream",
     "text": [
      "Kitty cat is home\n"
     ]
    },
    {
     "name": "stderr",
     "output_type": "stream",
     "text": [
      "2020-04-23 12:01:44,679 - __main__     - DEBUG    - Incoming message to topic ttm4115/team_1/collar\n",
      "2020-04-23 12:01:44,679 - __main__     - DEBUG    - Incoming message to topic ttm4115/team_1/collar\n",
      "2020-04-23 12:01:44,680 - __main__     - DEBUG    - Incoming message to topic ttm4115/team_1/collar\n",
      "2020-04-23 12:01:44,680 - __main__     - DEBUG    - Incoming message to topic ttm4115/team_1/collar\n"
     ]
    },
    {
     "name": "stdout",
     "output_type": "stream",
     "text": [
      "Tracked cat is Kitty starting\n",
      "\n",
      "Not tracked cat, ignoring command\n",
      "Not tracked cat, ignoring command\n"
     ]
    },
    {
     "name": "stderr",
     "output_type": "stream",
     "text": [
      "2020-04-23 12:01:49,682 - __main__     - DEBUG    - Incoming message to topic ttm4115/team_1/collar\n",
      "2020-04-23 12:01:49,682 - __main__     - DEBUG    - Incoming message to topic ttm4115/team_1/collar\n",
      "2020-04-23 12:01:49,683 - __main__     - DEBUG    - Incoming message to topic ttm4115/team_1/collar\n",
      "2020-04-23 12:01:49,683 - __main__     - DEBUG    - Incoming message to topic ttm4115/team_1/collar\n"
     ]
    },
    {
     "name": "stdout",
     "output_type": "stream",
     "text": [
      "Not tracked cat, ignoring command\n",
      "Not tracked cat, ignoring command\n"
     ]
    },
    {
     "name": "stderr",
     "output_type": "stream",
     "text": [
      "2020-04-23 12:01:53,098 - __main__     - DEBUG    - Incoming message to topic ttm4115/team_1/collar\n",
      "2020-04-23 12:01:53,098 - __main__     - DEBUG    - Incoming message to topic ttm4115/team_1/collar\n",
      "2020-04-23 12:01:53,099 - __main__     - DEBUG    - Incoming message to topic ttm4115/team_1/collar\n",
      "2020-04-23 12:01:53,099 - __main__     - DEBUG    - Incoming message to topic ttm4115/team_1/collar\n"
     ]
    },
    {
     "name": "stdout",
     "output_type": "stream",
     "text": [
      "Kitty cat is home\n",
      "Kitty cat is home\n"
     ]
    },
    {
     "name": "stderr",
     "output_type": "stream",
     "text": [
      "2020-04-23 12:01:54,650 - __main__     - INFO     - {'command': 'send_data', 'name': 'Kitty', 'lat': '100', 'long': '100'}\n",
      "2020-04-23 12:01:54,650 - __main__     - INFO     - {'command': 'send_data', 'name': 'Kitty', 'lat': '100', 'long': '100'}\n",
      "2020-04-23 12:01:54,700 - __main__     - DEBUG    - Incoming message to topic ttm4115/team_1/collar\n",
      "2020-04-23 12:01:54,700 - __main__     - DEBUG    - Incoming message to topic ttm4115/team_1/collar\n",
      "2020-04-23 12:01:54,706 - __main__     - DEBUG    - Incoming message to topic ttm4115/team_1/collar\n",
      "2020-04-23 12:01:54,706 - __main__     - DEBUG    - Incoming message to topic ttm4115/team_1/collar\n"
     ]
    },
    {
     "name": "stdout",
     "output_type": "stream",
     "text": [
      "Not tracked cat, ignoring command\n",
      "Not tracked cat, ignoring command\n"
     ]
    },
    {
     "name": "stderr",
     "output_type": "stream",
     "text": [
      "2020-04-23 12:01:55,365 - __main__     - DEBUG    - Incoming message to topic ttm4115/team_1/collar\n",
      "2020-04-23 12:01:55,365 - __main__     - DEBUG    - Incoming message to topic ttm4115/team_1/collar\n",
      "2020-04-23 12:01:55,366 - __main__     - DEBUG    - Incoming message to topic ttm4115/team_1/collar\n",
      "2020-04-23 12:01:55,366 - __main__     - DEBUG    - Incoming message to topic ttm4115/team_1/collar\n"
     ]
    },
    {
     "name": "stdout",
     "output_type": "stream",
     "text": [
      "Not tracked cat, ignoring command\n",
      "Not tracked cat, ignoring command\n"
     ]
    },
    {
     "name": "stderr",
     "output_type": "stream",
     "text": [
      "2020-04-23 12:02:03,100 - __main__     - DEBUG    - Incoming message to topic ttm4115/team_1/collar\n",
      "2020-04-23 12:02:03,100 - __main__     - DEBUG    - Incoming message to topic ttm4115/team_1/collar\n",
      "2020-04-23 12:02:03,100 - __main__     - DEBUG    - Incoming message to topic ttm4115/team_1/collar\n",
      "2020-04-23 12:02:03,100 - __main__     - DEBUG    - Incoming message to topic ttm4115/team_1/collar\n"
     ]
    },
    {
     "name": "stdout",
     "output_type": "stream",
     "text": [
      "Kitty cat is home\n",
      "Kitty cat is home\n"
     ]
    },
    {
     "name": "stderr",
     "output_type": "stream",
     "text": [
      "2020-04-23 12:02:04,654 - __main__     - INFO     - {'command': 'send_data', 'name': 'Kitty', 'lat': '100', 'long': '100'}\n",
      "2020-04-23 12:02:04,654 - __main__     - INFO     - {'command': 'send_data', 'name': 'Kitty', 'lat': '100', 'long': '100'}\n",
      "2020-04-23 12:02:05,366 - __main__     - DEBUG    - Incoming message to topic ttm4115/team_1/collar\n",
      "2020-04-23 12:02:05,366 - __main__     - DEBUG    - Incoming message to topic ttm4115/team_1/collar\n",
      "2020-04-23 12:02:05,366 - __main__     - DEBUG    - Incoming message to topic ttm4115/team_1/collar\n",
      "2020-04-23 12:02:05,366 - __main__     - DEBUG    - Incoming message to topic ttm4115/team_1/collar\n"
     ]
    },
    {
     "name": "stdout",
     "output_type": "stream",
     "text": [
      "Not tracked cat, ignoring command\n",
      "Not tracked cat, ignoring command\n"
     ]
    },
    {
     "name": "stderr",
     "output_type": "stream",
     "text": [
      "2020-04-23 12:02:13,099 - __main__     - DEBUG    - Incoming message to topic ttm4115/team_1/collar\n",
      "2020-04-23 12:02:13,099 - __main__     - DEBUG    - Incoming message to topic ttm4115/team_1/collar\n",
      "2020-04-23 12:02:13,101 - __main__     - DEBUG    - Incoming message to topic ttm4115/team_1/collar\n",
      "2020-04-23 12:02:13,101 - __main__     - DEBUG    - Incoming message to topic ttm4115/team_1/collar\n"
     ]
    },
    {
     "name": "stdout",
     "output_type": "stream",
     "text": [
      "Kitty cat is home\n",
      "Kitty cat is home\n"
     ]
    },
    {
     "name": "stderr",
     "output_type": "stream",
     "text": [
      "2020-04-23 12:02:14,675 - __main__     - INFO     - {'command': 'send_data', 'name': 'Kitty', 'lat': '100', 'long': '100'}\n",
      "2020-04-23 12:02:14,675 - __main__     - INFO     - {'command': 'send_data', 'name': 'Kitty', 'lat': '100', 'long': '100'}\n",
      "2020-04-23 12:02:15,368 - __main__     - DEBUG    - Incoming message to topic ttm4115/team_1/collar\n",
      "2020-04-23 12:02:15,368 - __main__     - DEBUG    - Incoming message to topic ttm4115/team_1/collar\n",
      "2020-04-23 12:02:15,368 - __main__     - DEBUG    - Incoming message to topic ttm4115/team_1/collar\n",
      "2020-04-23 12:02:15,368 - __main__     - DEBUG    - Incoming message to topic ttm4115/team_1/collar\n"
     ]
    },
    {
     "name": "stdout",
     "output_type": "stream",
     "text": [
      "Not tracked cat, ignoring command\n",
      "Not tracked cat, ignoring command\n"
     ]
    },
    {
     "name": "stderr",
     "output_type": "stream",
     "text": [
      "2020-04-23 12:02:23,105 - __main__     - DEBUG    - Incoming message to topic ttm4115/team_1/collar\n",
      "2020-04-23 12:02:23,105 - __main__     - DEBUG    - Incoming message to topic ttm4115/team_1/collar\n",
      "2020-04-23 12:02:23,106 - __main__     - DEBUG    - Incoming message to topic ttm4115/team_1/collar\n",
      "2020-04-23 12:02:23,106 - __main__     - DEBUG    - Incoming message to topic ttm4115/team_1/collar\n"
     ]
    },
    {
     "name": "stdout",
     "output_type": "stream",
     "text": [
      "Kitty cat is home\n",
      "Kitty cat is home\n"
     ]
    },
    {
     "name": "stderr",
     "output_type": "stream",
     "text": [
      "2020-04-23 12:02:24,680 - __main__     - INFO     - {'command': 'send_data', 'name': 'Kitty', 'lat': '100', 'long': '100'}\n",
      "2020-04-23 12:02:24,680 - __main__     - INFO     - {'command': 'send_data', 'name': 'Kitty', 'lat': '100', 'long': '100'}\n",
      "2020-04-23 12:02:25,371 - __main__     - DEBUG    - Incoming message to topic ttm4115/team_1/collar\n",
      "2020-04-23 12:02:25,371 - __main__     - DEBUG    - Incoming message to topic ttm4115/team_1/collar\n",
      "2020-04-23 12:02:25,371 - __main__     - DEBUG    - Incoming message to topic ttm4115/team_1/collar\n",
      "2020-04-23 12:02:25,371 - __main__     - DEBUG    - Incoming message to topic ttm4115/team_1/collar\n"
     ]
    },
    {
     "name": "stdout",
     "output_type": "stream",
     "text": [
      "Not tracked cat, ignoring command\n",
      "Not tracked cat, ignoring command\n"
     ]
    },
    {
     "name": "stderr",
     "output_type": "stream",
     "text": [
      "2020-04-23 12:02:33,102 - __main__     - DEBUG    - Incoming message to topic ttm4115/team_1/collar\n",
      "2020-04-23 12:02:33,102 - __main__     - DEBUG    - Incoming message to topic ttm4115/team_1/collar\n",
      "2020-04-23 12:02:33,104 - __main__     - DEBUG    - Incoming message to topic ttm4115/team_1/collar\n",
      "2020-04-23 12:02:33,104 - __main__     - DEBUG    - Incoming message to topic ttm4115/team_1/collar\n"
     ]
    },
    {
     "name": "stdout",
     "output_type": "stream",
     "text": [
      "Kitty cat is home\n",
      "Kitty cat is home\n"
     ]
    },
    {
     "name": "stderr",
     "output_type": "stream",
     "text": [
      "2020-04-23 12:02:34,688 - __main__     - INFO     - {'command': 'send_data', 'name': 'Kitty', 'lat': '100', 'long': '100'}\n",
      "2020-04-23 12:02:34,688 - __main__     - INFO     - {'command': 'send_data', 'name': 'Kitty', 'lat': '100', 'long': '100'}\n",
      "2020-04-23 12:02:35,370 - __main__     - DEBUG    - Incoming message to topic ttm4115/team_1/collar\n",
      "2020-04-23 12:02:35,370 - __main__     - DEBUG    - Incoming message to topic ttm4115/team_1/collar\n",
      "2020-04-23 12:02:35,371 - __main__     - DEBUG    - Incoming message to topic ttm4115/team_1/collar\n",
      "2020-04-23 12:02:35,371 - __main__     - DEBUG    - Incoming message to topic ttm4115/team_1/collar\n"
     ]
    },
    {
     "name": "stdout",
     "output_type": "stream",
     "text": [
      "Not tracked cat, ignoring command\n",
      "Not tracked cat, ignoring command\n"
     ]
    },
    {
     "name": "stderr",
     "output_type": "stream",
     "text": [
      "2020-04-23 12:02:43,101 - __main__     - DEBUG    - Incoming message to topic ttm4115/team_1/collar\n",
      "2020-04-23 12:02:43,101 - __main__     - DEBUG    - Incoming message to topic ttm4115/team_1/collar\n",
      "2020-04-23 12:02:43,102 - __main__     - DEBUG    - Incoming message to topic ttm4115/team_1/collar\n",
      "2020-04-23 12:02:43,102 - __main__     - DEBUG    - Incoming message to topic ttm4115/team_1/collar\n"
     ]
    },
    {
     "name": "stdout",
     "output_type": "stream",
     "text": [
      "Kitty cat is home\n",
      "Kitty cat is home\n"
     ]
    },
    {
     "name": "stderr",
     "output_type": "stream",
     "text": [
      "2020-04-23 12:02:44,691 - __main__     - INFO     - {'command': 'send_data', 'name': 'Kitty', 'lat': '100', 'long': '100'}\n",
      "2020-04-23 12:02:44,691 - __main__     - INFO     - {'command': 'send_data', 'name': 'Kitty', 'lat': '100', 'long': '100'}\n",
      "2020-04-23 12:02:45,370 - __main__     - DEBUG    - Incoming message to topic ttm4115/team_1/collar\n",
      "2020-04-23 12:02:45,370 - __main__     - DEBUG    - Incoming message to topic ttm4115/team_1/collar\n",
      "2020-04-23 12:02:45,371 - __main__     - DEBUG    - Incoming message to topic ttm4115/team_1/collar\n",
      "2020-04-23 12:02:45,371 - __main__     - DEBUG    - Incoming message to topic ttm4115/team_1/collar\n"
     ]
    },
    {
     "name": "stdout",
     "output_type": "stream",
     "text": [
      "Not tracked cat, ignoring commandNot tracked cat, ignoring command\n",
      "\n"
     ]
    },
    {
     "name": "stderr",
     "output_type": "stream",
     "text": [
      "2020-04-23 12:02:53,106 - __main__     - DEBUG    - Incoming message to topic ttm4115/team_1/collar\n",
      "2020-04-23 12:02:53,106 - __main__     - DEBUG    - Incoming message to topic ttm4115/team_1/collar\n",
      "2020-04-23 12:02:53,106 - __main__     - DEBUG    - Incoming message to topic ttm4115/team_1/collar\n",
      "2020-04-23 12:02:53,106 - __main__     - DEBUG    - Incoming message to topic ttm4115/team_1/collar\n"
     ]
    },
    {
     "name": "stdout",
     "output_type": "stream",
     "text": [
      "Kitty cat is home\n",
      "Kitty cat is home\n"
     ]
    },
    {
     "name": "stderr",
     "output_type": "stream",
     "text": [
      "2020-04-23 12:02:54,693 - __main__     - INFO     - {'command': 'send_data', 'name': 'Kitty', 'lat': '100', 'long': '100'}\n",
      "2020-04-23 12:02:54,693 - __main__     - INFO     - {'command': 'send_data', 'name': 'Kitty', 'lat': '100', 'long': '100'}\n",
      "2020-04-23 12:02:55,369 - __main__     - DEBUG    - Incoming message to topic ttm4115/team_1/collar\n",
      "2020-04-23 12:02:55,369 - __main__     - DEBUG    - Incoming message to topic ttm4115/team_1/collar\n",
      "2020-04-23 12:02:55,369 - __main__     - DEBUG    - Incoming message to topic ttm4115/team_1/collar\n",
      "2020-04-23 12:02:55,369 - __main__     - DEBUG    - Incoming message to topic ttm4115/team_1/collar\n"
     ]
    },
    {
     "name": "stdout",
     "output_type": "stream",
     "text": [
      "Not tracked cat, ignoring command\n",
      "Not tracked cat, ignoring command\n"
     ]
    },
    {
     "name": "stderr",
     "output_type": "stream",
     "text": [
      "2020-04-23 12:03:03,103 - __main__     - DEBUG    - Incoming message to topic ttm4115/team_1/collar\n",
      "2020-04-23 12:03:03,103 - __main__     - DEBUG    - Incoming message to topic ttm4115/team_1/collar\n",
      "2020-04-23 12:03:03,105 - __main__     - DEBUG    - Incoming message to topic ttm4115/team_1/collar\n",
      "2020-04-23 12:03:03,105 - __main__     - DEBUG    - Incoming message to topic ttm4115/team_1/collar\n"
     ]
    },
    {
     "name": "stdout",
     "output_type": "stream",
     "text": [
      "Kitty cat is home\n",
      "Kitty cat is home\n"
     ]
    },
    {
     "name": "stderr",
     "output_type": "stream",
     "text": [
      "2020-04-23 12:03:04,699 - __main__     - INFO     - {'command': 'send_data', 'name': 'Kitty', 'lat': '100', 'long': '100'}\n",
      "2020-04-23 12:03:04,699 - __main__     - INFO     - {'command': 'send_data', 'name': 'Kitty', 'lat': '100', 'long': '100'}\n",
      "2020-04-23 12:03:05,371 - __main__     - DEBUG    - Incoming message to topic ttm4115/team_1/collar\n",
      "2020-04-23 12:03:05,371 - __main__     - DEBUG    - Incoming message to topic ttm4115/team_1/collar\n",
      "2020-04-23 12:03:05,371 - __main__     - DEBUG    - Incoming message to topic ttm4115/team_1/collar\n",
      "2020-04-23 12:03:05,371 - __main__     - DEBUG    - Incoming message to topic ttm4115/team_1/collar\n"
     ]
    },
    {
     "name": "stdout",
     "output_type": "stream",
     "text": [
      "Not tracked cat, ignoring command\n",
      "Not tracked cat, ignoring command\n"
     ]
    },
    {
     "name": "stderr",
     "output_type": "stream",
     "text": [
      "2020-04-23 12:03:13,111 - __main__     - DEBUG    - Incoming message to topic ttm4115/team_1/collar\n",
      "2020-04-23 12:03:13,111 - __main__     - DEBUG    - Incoming message to topic ttm4115/team_1/collar\n",
      "2020-04-23 12:03:13,114 - __main__     - DEBUG    - Incoming message to topic ttm4115/team_1/collar\n",
      "2020-04-23 12:03:13,114 - __main__     - DEBUG    - Incoming message to topic ttm4115/team_1/collar\n"
     ]
    },
    {
     "name": "stdout",
     "output_type": "stream",
     "text": [
      "Kitty cat is home\n",
      "Kitty cat is home\n"
     ]
    },
    {
     "name": "stderr",
     "output_type": "stream",
     "text": [
      "2020-04-23 12:03:14,717 - __main__     - INFO     - {'command': 'send_data', 'name': 'Kitty', 'lat': '100', 'long': '100'}\n",
      "2020-04-23 12:03:14,717 - __main__     - INFO     - {'command': 'send_data', 'name': 'Kitty', 'lat': '100', 'long': '100'}\n",
      "2020-04-23 12:03:15,373 - __main__     - DEBUG    - Incoming message to topic ttm4115/team_1/collar\n",
      "2020-04-23 12:03:15,373 - __main__     - DEBUG    - Incoming message to topic ttm4115/team_1/collar\n",
      "2020-04-23 12:03:15,374 - __main__     - DEBUG    - Incoming message to topic ttm4115/team_1/collar\n",
      "2020-04-23 12:03:15,374 - __main__     - DEBUG    - Incoming message to topic ttm4115/team_1/collar\n"
     ]
    },
    {
     "name": "stdout",
     "output_type": "stream",
     "text": [
      "Not tracked cat, ignoring command\n",
      "Not tracked cat, ignoring command\n"
     ]
    },
    {
     "name": "stderr",
     "output_type": "stream",
     "text": [
      "2020-04-23 12:03:23,116 - __main__     - DEBUG    - Incoming message to topic ttm4115/team_1/collar\n",
      "2020-04-23 12:03:23,116 - __main__     - DEBUG    - Incoming message to topic ttm4115/team_1/collar\n",
      "2020-04-23 12:03:23,118 - __main__     - DEBUG    - Incoming message to topic ttm4115/team_1/collar\n",
      "2020-04-23 12:03:23,118 - __main__     - DEBUG    - Incoming message to topic ttm4115/team_1/collar\n"
     ]
    },
    {
     "name": "stdout",
     "output_type": "stream",
     "text": [
      "Kitty cat is home\n",
      "Kitty cat is home\n"
     ]
    },
    {
     "name": "stderr",
     "output_type": "stream",
     "text": [
      "2020-04-23 12:03:24,725 - __main__     - INFO     - {'command': 'send_data', 'name': 'Kitty', 'lat': '100', 'long': '100'}\n",
      "2020-04-23 12:03:24,725 - __main__     - INFO     - {'command': 'send_data', 'name': 'Kitty', 'lat': '100', 'long': '100'}\n",
      "2020-04-23 12:03:25,383 - __main__     - DEBUG    - Incoming message to topic ttm4115/team_1/collar\n",
      "2020-04-23 12:03:25,383 - __main__     - DEBUG    - Incoming message to topic ttm4115/team_1/collar\n",
      "2020-04-23 12:03:25,384 - __main__     - DEBUG    - Incoming message to topic ttm4115/team_1/collar\n",
      "2020-04-23 12:03:25,384 - __main__     - DEBUG    - Incoming message to topic ttm4115/team_1/collar\n"
     ]
    },
    {
     "name": "stdout",
     "output_type": "stream",
     "text": [
      "Not tracked cat, ignoring command\n",
      "Not tracked cat, ignoring command\n"
     ]
    },
    {
     "name": "stderr",
     "output_type": "stream",
     "text": [
      "2020-04-23 12:03:33,109 - __main__     - DEBUG    - Incoming message to topic ttm4115/team_1/collar\n",
      "2020-04-23 12:03:33,109 - __main__     - DEBUG    - Incoming message to topic ttm4115/team_1/collar\n",
      "2020-04-23 12:03:33,110 - __main__     - DEBUG    - Incoming message to topic ttm4115/team_1/collar\n",
      "2020-04-23 12:03:33,110 - __main__     - DEBUG    - Incoming message to topic ttm4115/team_1/collar\n"
     ]
    },
    {
     "name": "stdout",
     "output_type": "stream",
     "text": [
      "Kitty cat is home\n",
      "Kitty cat is home\n"
     ]
    },
    {
     "name": "stderr",
     "output_type": "stream",
     "text": [
      "2020-04-23 12:03:34,740 - __main__     - INFO     - {'command': 'send_data', 'name': 'Kitty', 'lat': '100', 'long': '69'}\n",
      "2020-04-23 12:03:34,740 - __main__     - INFO     - {'command': 'send_data', 'name': 'Kitty', 'lat': '100', 'long': '69'}\n",
      "2020-04-23 12:03:35,374 - __main__     - DEBUG    - Incoming message to topic ttm4115/team_1/collar\n",
      "2020-04-23 12:03:35,374 - __main__     - DEBUG    - Incoming message to topic ttm4115/team_1/collar\n",
      "2020-04-23 12:03:35,374 - __main__     - DEBUG    - Incoming message to topic ttm4115/team_1/collar\n",
      "2020-04-23 12:03:35,374 - __main__     - DEBUG    - Incoming message to topic ttm4115/team_1/collar\n"
     ]
    },
    {
     "name": "stdout",
     "output_type": "stream",
     "text": [
      "Not tracked cat, ignoring command\n",
      "Not tracked cat, ignoring command\n"
     ]
    },
    {
     "name": "stderr",
     "output_type": "stream",
     "text": [
      "2020-04-23 12:03:43,109 - __main__     - DEBUG    - Incoming message to topic ttm4115/team_1/collar\n",
      "2020-04-23 12:03:43,109 - __main__     - DEBUG    - Incoming message to topic ttm4115/team_1/collar\n",
      "2020-04-23 12:03:43,109 - __main__     - DEBUG    - Incoming message to topic ttm4115/team_1/collar\n",
      "2020-04-23 12:03:43,109 - __main__     - DEBUG    - Incoming message to topic ttm4115/team_1/collar\n"
     ]
    },
    {
     "name": "stdout",
     "output_type": "stream",
     "text": [
      "Kitty cat is home\n",
      "Kitty cat is home\n"
     ]
    },
    {
     "name": "stderr",
     "output_type": "stream",
     "text": [
      "2020-04-23 12:03:44,754 - __main__     - INFO     - {'command': 'send_data', 'name': 'Kitty', 'lat': '69', 'long': '69'}\n",
      "2020-04-23 12:03:44,754 - __main__     - INFO     - {'command': 'send_data', 'name': 'Kitty', 'lat': '69', 'long': '69'}\n",
      "2020-04-23 12:03:45,378 - __main__     - DEBUG    - Incoming message to topic ttm4115/team_1/collar\n",
      "2020-04-23 12:03:45,378 - __main__     - DEBUG    - Incoming message to topic ttm4115/team_1/collar\n",
      "2020-04-23 12:03:45,378 - __main__     - DEBUG    - Incoming message to topic ttm4115/team_1/collar\n",
      "2020-04-23 12:03:45,378 - __main__     - DEBUG    - Incoming message to topic ttm4115/team_1/collar\n"
     ]
    },
    {
     "name": "stdout",
     "output_type": "stream",
     "text": [
      "Not tracked cat, ignoring command\n",
      "Not tracked cat, ignoring command\n"
     ]
    },
    {
     "name": "stderr",
     "output_type": "stream",
     "text": [
      "2020-04-23 12:03:53,110 - __main__     - DEBUG    - Incoming message to topic ttm4115/team_1/collar\n",
      "2020-04-23 12:03:53,110 - __main__     - DEBUG    - Incoming message to topic ttm4115/team_1/collar\n",
      "2020-04-23 12:03:53,111 - __main__     - DEBUG    - Incoming message to topic ttm4115/team_1/collar\n",
      "2020-04-23 12:03:53,111 - __main__     - DEBUG    - Incoming message to topic ttm4115/team_1/collar\n"
     ]
    },
    {
     "name": "stdout",
     "output_type": "stream",
     "text": [
      "Kitty cat is home\n",
      "Kitty cat is home\n"
     ]
    },
    {
     "name": "stderr",
     "output_type": "stream",
     "text": [
      "2020-04-23 12:03:54,759 - __main__     - INFO     - {'command': 'send_data', 'name': 'Kitty', 'lat': '69', 'long': '69'}\n",
      "2020-04-23 12:03:54,759 - __main__     - INFO     - {'command': 'send_data', 'name': 'Kitty', 'lat': '69', 'long': '69'}\n",
      "2020-04-23 12:03:55,375 - __main__     - DEBUG    - Incoming message to topic ttm4115/team_1/collar\n",
      "2020-04-23 12:03:55,375 - __main__     - DEBUG    - Incoming message to topic ttm4115/team_1/collar\n",
      "2020-04-23 12:03:55,375 - __main__     - DEBUG    - Incoming message to topic ttm4115/team_1/collar\n",
      "2020-04-23 12:03:55,375 - __main__     - DEBUG    - Incoming message to topic ttm4115/team_1/collar\n"
     ]
    },
    {
     "name": "stdout",
     "output_type": "stream",
     "text": [
      "Not tracked cat, ignoring command\n",
      "Not tracked cat, ignoring command\n"
     ]
    },
    {
     "name": "stderr",
     "output_type": "stream",
     "text": [
      "2020-04-23 12:04:03,109 - __main__     - DEBUG    - Incoming message to topic ttm4115/team_1/collar\n",
      "2020-04-23 12:04:03,109 - __main__     - DEBUG    - Incoming message to topic ttm4115/team_1/collar\n",
      "2020-04-23 12:04:03,110 - __main__     - DEBUG    - Incoming message to topic ttm4115/team_1/collar\n",
      "2020-04-23 12:04:03,110 - __main__     - DEBUG    - Incoming message to topic ttm4115/team_1/collar\n"
     ]
    },
    {
     "name": "stdout",
     "output_type": "stream",
     "text": [
      "Kitty cat is home\n",
      "Kitty cat is home\n"
     ]
    },
    {
     "name": "stderr",
     "output_type": "stream",
     "text": [
      "2020-04-23 12:04:04,770 - __main__     - INFO     - {'command': 'send_data', 'name': 'Kitty', 'lat': '69', 'long': '69'}\n",
      "2020-04-23 12:04:04,770 - __main__     - INFO     - {'command': 'send_data', 'name': 'Kitty', 'lat': '69', 'long': '69'}\n",
      "2020-04-23 12:04:05,392 - __main__     - DEBUG    - Incoming message to topic ttm4115/team_1/collar\n",
      "2020-04-23 12:04:05,392 - __main__     - DEBUG    - Incoming message to topic ttm4115/team_1/collar\n",
      "2020-04-23 12:04:05,393 - __main__     - DEBUG    - Incoming message to topic ttm4115/team_1/collar\n",
      "2020-04-23 12:04:05,393 - __main__     - DEBUG    - Incoming message to topic ttm4115/team_1/collar\n"
     ]
    },
    {
     "name": "stdout",
     "output_type": "stream",
     "text": [
      "Not tracked cat, ignoring command\n",
      "Not tracked cat, ignoring command\n"
     ]
    },
    {
     "name": "stderr",
     "output_type": "stream",
     "text": [
      "2020-04-23 12:04:13,111 - __main__     - DEBUG    - Incoming message to topic ttm4115/team_1/collar\n",
      "2020-04-23 12:04:13,111 - __main__     - DEBUG    - Incoming message to topic ttm4115/team_1/collar\n",
      "2020-04-23 12:04:13,111 - __main__     - DEBUG    - Incoming message to topic ttm4115/team_1/collar\n",
      "2020-04-23 12:04:13,111 - __main__     - DEBUG    - Incoming message to topic ttm4115/team_1/collar\n"
     ]
    },
    {
     "name": "stdout",
     "output_type": "stream",
     "text": [
      "Kitty cat is home\n",
      "Kitty cat is home\n"
     ]
    },
    {
     "name": "stderr",
     "output_type": "stream",
     "text": [
      "2020-04-23 12:04:14,785 - __main__     - INFO     - {'command': 'send_data', 'name': 'Kitty', 'lat': '69', 'long': '69'}\n",
      "2020-04-23 12:04:14,785 - __main__     - INFO     - {'command': 'send_data', 'name': 'Kitty', 'lat': '69', 'long': '69'}\n",
      "2020-04-23 12:04:15,376 - __main__     - DEBUG    - Incoming message to topic ttm4115/team_1/collar\n",
      "2020-04-23 12:04:15,376 - __main__     - DEBUG    - Incoming message to topic ttm4115/team_1/collar\n",
      "2020-04-23 12:04:15,376 - __main__     - DEBUG    - Incoming message to topic ttm4115/team_1/collar\n",
      "2020-04-23 12:04:15,376 - __main__     - DEBUG    - Incoming message to topic ttm4115/team_1/collar\n"
     ]
    },
    {
     "name": "stdout",
     "output_type": "stream",
     "text": [
      "Not tracked cat, ignoring command\n",
      "Not tracked cat, ignoring command\n"
     ]
    },
    {
     "name": "stderr",
     "output_type": "stream",
     "text": [
      "2020-04-23 12:04:24,787 - __main__     - INFO     - {'command': 'send_data', 'name': 'Kitty', 'lat': '', 'long': '29'}\n",
      "2020-04-23 12:04:24,787 - __main__     - INFO     - {'command': 'send_data', 'name': 'Kitty', 'lat': '', 'long': '29'}\n",
      "2020-04-23 12:04:34,791 - __main__     - INFO     - {'command': 'send_data', 'name': 'Kitty', 'lat': '', 'long': ''}\n",
      "2020-04-23 12:04:34,791 - __main__     - INFO     - {'command': 'send_data', 'name': 'Kitty', 'lat': '', 'long': ''}\n",
      "2020-04-23 12:04:44,797 - __main__     - INFO     - {'command': 'send_data', 'name': 'Kitty', 'lat': '20', 'long': '20'}\n",
      "2020-04-23 12:04:44,797 - __main__     - INFO     - {'command': 'send_data', 'name': 'Kitty', 'lat': '20', 'long': '20'}\n",
      "2020-04-23 12:04:54,802 - __main__     - INFO     - {'command': 'send_data', 'name': 'Kitty', 'lat': '20', 'long': '20'}\n",
      "2020-04-23 12:04:54,802 - __main__     - INFO     - {'command': 'send_data', 'name': 'Kitty', 'lat': '20', 'long': '20'}\n",
      "2020-04-23 12:05:04,808 - __main__     - INFO     - {'command': 'send_data', 'name': 'Kitty', 'lat': '20', 'long': '20'}\n",
      "2020-04-23 12:05:04,808 - __main__     - INFO     - {'command': 'send_data', 'name': 'Kitty', 'lat': '20', 'long': '20'}\n",
      "2020-04-23 12:05:14,812 - __main__     - INFO     - {'command': 'send_data', 'name': 'Kitty', 'lat': '20', 'long': '20'}\n",
      "2020-04-23 12:05:14,812 - __main__     - INFO     - {'command': 'send_data', 'name': 'Kitty', 'lat': '20', 'long': '20'}\n",
      "2020-04-23 12:05:24,819 - __main__     - INFO     - {'command': 'send_data', 'name': 'Kitty', 'lat': '20', 'long': '20'}\n",
      "2020-04-23 12:05:24,819 - __main__     - INFO     - {'command': 'send_data', 'name': 'Kitty', 'lat': '20', 'long': '20'}\n",
      "2020-04-23 12:05:30,510 - __main__     - DEBUG    - Incoming message to topic ttm4115/team_1/collar\n",
      "2020-04-23 12:05:30,510 - __main__     - DEBUG    - Incoming message to topic ttm4115/team_1/collar\n",
      "2020-04-23 12:05:30,511 - __main__     - DEBUG    - Incoming message to topic ttm4115/team_1/collar\n",
      "2020-04-23 12:05:30,511 - __main__     - DEBUG    - Incoming message to topic ttm4115/team_1/collar\n",
      "2020-04-23 12:05:30,557 - __main__     - DEBUG    - Incoming message to topic ttm4115/team_1/collar\n",
      "2020-04-23 12:05:30,557 - __main__     - DEBUG    - Incoming message to topic ttm4115/team_1/collar\n",
      "2020-04-23 12:05:30,558 - __main__     - DEBUG    - Incoming message to topic ttm4115/team_1/collar\n",
      "2020-04-23 12:05:30,558 - __main__     - DEBUG    - Incoming message to topic ttm4115/team_1/collar\n"
     ]
    },
    {
     "name": "stdout",
     "output_type": "stream",
     "text": [
      "Kitty cat is home\n",
      "Kitty cat is home\n",
      "Not tracked cat, ignoring command\n",
      "Not tracked cat, ignoring command\n"
     ]
    },
    {
     "name": "stderr",
     "output_type": "stream",
     "text": [
      "2020-04-23 12:05:34,833 - __main__     - INFO     - {'command': 'send_data', 'name': 'Kitty', 'lat': '20', 'long': '20'}\n",
      "2020-04-23 12:05:34,833 - __main__     - INFO     - {'command': 'send_data', 'name': 'Kitty', 'lat': '20', 'long': '20'}\n",
      "2020-04-23 12:05:40,513 - __main__     - DEBUG    - Incoming message to topic ttm4115/team_1/collar\n",
      "2020-04-23 12:05:40,513 - __main__     - DEBUG    - Incoming message to topic ttm4115/team_1/collar\n",
      "2020-04-23 12:05:40,514 - __main__     - DEBUG    - Incoming message to topic ttm4115/team_1/collar\n",
      "2020-04-23 12:05:40,514 - __main__     - DEBUG    - Incoming message to topic ttm4115/team_1/collar\n",
      "2020-04-23 12:05:40,559 - __main__     - DEBUG    - Incoming message to topic ttm4115/team_1/collar\n",
      "2020-04-23 12:05:40,559 - __main__     - DEBUG    - Incoming message to topic ttm4115/team_1/collar\n",
      "2020-04-23 12:05:40,560 - __main__     - DEBUG    - Incoming message to topic ttm4115/team_1/collar\n",
      "2020-04-23 12:05:40,560 - __main__     - DEBUG    - Incoming message to topic ttm4115/team_1/collar\n"
     ]
    },
    {
     "name": "stdout",
     "output_type": "stream",
     "text": [
      "Kitty cat is home\n",
      "Kitty cat is home\n",
      "Not tracked cat, ignoring command\n",
      "Not tracked cat, ignoring command\n"
     ]
    },
    {
     "name": "stderr",
     "output_type": "stream",
     "text": [
      "2020-04-23 12:05:44,847 - __main__     - INFO     - {'command': 'send_data', 'name': 'Kitty', 'lat': '20', 'long': '20'}\n",
      "2020-04-23 12:05:44,847 - __main__     - INFO     - {'command': 'send_data', 'name': 'Kitty', 'lat': '20', 'long': '20'}\n",
      "2020-04-23 12:05:50,512 - __main__     - DEBUG    - Incoming message to topic ttm4115/team_1/collar\n",
      "2020-04-23 12:05:50,512 - __main__     - DEBUG    - Incoming message to topic ttm4115/team_1/collar\n",
      "2020-04-23 12:05:50,512 - __main__     - DEBUG    - Incoming message to topic ttm4115/team_1/collar\n",
      "2020-04-23 12:05:50,512 - __main__     - DEBUG    - Incoming message to topic ttm4115/team_1/collar\n",
      "2020-04-23 12:05:50,556 - __main__     - DEBUG    - Incoming message to topic ttm4115/team_1/collar\n",
      "2020-04-23 12:05:50,556 - __main__     - DEBUG    - Incoming message to topic ttm4115/team_1/collar\n",
      "2020-04-23 12:05:50,557 - __main__     - DEBUG    - Incoming message to topic ttm4115/team_1/collar\n",
      "2020-04-23 12:05:50,557 - __main__     - DEBUG    - Incoming message to topic ttm4115/team_1/collar\n"
     ]
    },
    {
     "name": "stdout",
     "output_type": "stream",
     "text": [
      "Kitty cat is home\n",
      "Kitty cat is home\n",
      "Not tracked cat, ignoring command\n",
      "Not tracked cat, ignoring command\n"
     ]
    },
    {
     "name": "stderr",
     "output_type": "stream",
     "text": [
      "2020-04-23 12:05:54,863 - __main__     - INFO     - {'command': 'send_data', 'name': 'Kitty', 'lat': '20', 'long': '90'}\n",
      "2020-04-23 12:05:54,863 - __main__     - INFO     - {'command': 'send_data', 'name': 'Kitty', 'lat': '20', 'long': '90'}\n",
      "2020-04-23 12:06:00,513 - __main__     - DEBUG    - Incoming message to topic ttm4115/team_1/collar\n",
      "2020-04-23 12:06:00,513 - __main__     - DEBUG    - Incoming message to topic ttm4115/team_1/collar\n",
      "2020-04-23 12:06:00,514 - __main__     - DEBUG    - Incoming message to topic ttm4115/team_1/collar\n",
      "2020-04-23 12:06:00,514 - __main__     - DEBUG    - Incoming message to topic ttm4115/team_1/collar\n",
      "2020-04-23 12:06:00,560 - __main__     - DEBUG    - Incoming message to topic ttm4115/team_1/collar\n",
      "2020-04-23 12:06:00,560 - __main__     - DEBUG    - Incoming message to topic ttm4115/team_1/collar\n",
      "2020-04-23 12:06:00,560 - __main__     - DEBUG    - Incoming message to topic ttm4115/team_1/collar\n",
      "2020-04-23 12:06:00,560 - __main__     - DEBUG    - Incoming message to topic ttm4115/team_1/collar\n"
     ]
    },
    {
     "name": "stdout",
     "output_type": "stream",
     "text": [
      "Kitty cat is home\n",
      "Kitty cat is home\n",
      "Not tracked cat, ignoring command\n",
      "Not tracked cat, ignoring command\n"
     ]
    },
    {
     "name": "stderr",
     "output_type": "stream",
     "text": [
      "2020-04-23 12:06:04,881 - __main__     - INFO     - {'command': 'send_data', 'name': 'Kitty', 'lat': '20', 'long': '90'}\n",
      "2020-04-23 12:06:04,881 - __main__     - INFO     - {'command': 'send_data', 'name': 'Kitty', 'lat': '20', 'long': '90'}\n",
      "2020-04-23 12:06:10,515 - __main__     - DEBUG    - Incoming message to topic ttm4115/team_1/collar\n",
      "2020-04-23 12:06:10,515 - __main__     - DEBUG    - Incoming message to topic ttm4115/team_1/collar\n",
      "2020-04-23 12:06:10,515 - __main__     - DEBUG    - Incoming message to topic ttm4115/team_1/collar\n",
      "2020-04-23 12:06:10,515 - __main__     - DEBUG    - Incoming message to topic ttm4115/team_1/collar\n",
      "2020-04-23 12:06:10,560 - __main__     - DEBUG    - Incoming message to topic ttm4115/team_1/collar\n",
      "2020-04-23 12:06:10,560 - __main__     - DEBUG    - Incoming message to topic ttm4115/team_1/collar\n",
      "2020-04-23 12:06:10,561 - __main__     - DEBUG    - Incoming message to topic ttm4115/team_1/collar\n",
      "2020-04-23 12:06:10,561 - __main__     - DEBUG    - Incoming message to topic ttm4115/team_1/collar\n"
     ]
    },
    {
     "name": "stdout",
     "output_type": "stream",
     "text": [
      "Kitty cat is home\n",
      "Kitty cat is home\n",
      "Not tracked cat, ignoring command\n",
      "Not tracked cat, ignoring command\n"
     ]
    },
    {
     "name": "stderr",
     "output_type": "stream",
     "text": [
      "2020-04-23 12:06:14,893 - __main__     - INFO     - {'command': 'send_data', 'name': 'Kitty', 'lat': '20', 'long': '90'}\n",
      "2020-04-23 12:06:14,893 - __main__     - INFO     - {'command': 'send_data', 'name': 'Kitty', 'lat': '20', 'long': '90'}\n",
      "2020-04-23 12:06:20,514 - __main__     - DEBUG    - Incoming message to topic ttm4115/team_1/collar\n",
      "2020-04-23 12:06:20,514 - __main__     - DEBUG    - Incoming message to topic ttm4115/team_1/collar\n",
      "2020-04-23 12:06:20,514 - __main__     - DEBUG    - Incoming message to topic ttm4115/team_1/collar\n",
      "2020-04-23 12:06:20,514 - __main__     - DEBUG    - Incoming message to topic ttm4115/team_1/collar\n",
      "2020-04-23 12:06:20,560 - __main__     - DEBUG    - Incoming message to topic ttm4115/team_1/collar\n",
      "2020-04-23 12:06:20,560 - __main__     - DEBUG    - Incoming message to topic ttm4115/team_1/collar\n",
      "2020-04-23 12:06:20,561 - __main__     - DEBUG    - Incoming message to topic ttm4115/team_1/collar\n",
      "2020-04-23 12:06:20,561 - __main__     - DEBUG    - Incoming message to topic ttm4115/team_1/collar\n"
     ]
    },
    {
     "name": "stdout",
     "output_type": "stream",
     "text": [
      "Kitty cat is home\n",
      "Kitty cat is home\n",
      "Not tracked cat, ignoring command\n",
      "Not tracked cat, ignoring command\n"
     ]
    },
    {
     "name": "stderr",
     "output_type": "stream",
     "text": [
      "2020-04-23 12:06:24,908 - __main__     - INFO     - {'command': 'send_data', 'name': 'Kitty', 'lat': '20', 'long': '90'}\n",
      "2020-04-23 12:06:24,908 - __main__     - INFO     - {'command': 'send_data', 'name': 'Kitty', 'lat': '20', 'long': '90'}\n",
      "2020-04-23 12:06:30,520 - __main__     - DEBUG    - Incoming message to topic ttm4115/team_1/collar\n",
      "2020-04-23 12:06:30,520 - __main__     - DEBUG    - Incoming message to topic ttm4115/team_1/collar\n",
      "2020-04-23 12:06:30,520 - __main__     - DEBUG    - Incoming message to topic ttm4115/team_1/collar\n",
      "2020-04-23 12:06:30,520 - __main__     - DEBUG    - Incoming message to topic ttm4115/team_1/collar\n",
      "2020-04-23 12:06:30,565 - __main__     - DEBUG    - Incoming message to topic ttm4115/team_1/collar\n",
      "2020-04-23 12:06:30,565 - __main__     - DEBUG    - Incoming message to topic ttm4115/team_1/collar\n",
      "2020-04-23 12:06:30,565 - __main__     - DEBUG    - Incoming message to topic ttm4115/team_1/collar\n",
      "2020-04-23 12:06:30,565 - __main__     - DEBUG    - Incoming message to topic ttm4115/team_1/collar\n"
     ]
    },
    {
     "name": "stdout",
     "output_type": "stream",
     "text": [
      "Kitty cat is home\n",
      "Kitty cat is home\n",
      "Not tracked cat, ignoring command\n",
      "Not tracked cat, ignoring command\n"
     ]
    },
    {
     "name": "stderr",
     "output_type": "stream",
     "text": [
      "2020-04-23 12:06:34,916 - __main__     - INFO     - {'command': 'send_data', 'name': 'Kitty', 'lat': '20', 'long': '90'}\n",
      "2020-04-23 12:06:34,916 - __main__     - INFO     - {'command': 'send_data', 'name': 'Kitty', 'lat': '20', 'long': '90'}\n",
      "2020-04-23 12:06:40,517 - __main__     - DEBUG    - Incoming message to topic ttm4115/team_1/collar\n",
      "2020-04-23 12:06:40,517 - __main__     - DEBUG    - Incoming message to topic ttm4115/team_1/collar\n",
      "2020-04-23 12:06:40,518 - __main__     - DEBUG    - Incoming message to topic ttm4115/team_1/collar\n",
      "2020-04-23 12:06:40,518 - __main__     - DEBUG    - Incoming message to topic ttm4115/team_1/collar\n",
      "2020-04-23 12:06:40,563 - __main__     - DEBUG    - Incoming message to topic ttm4115/team_1/collar\n",
      "2020-04-23 12:06:40,563 - __main__     - DEBUG    - Incoming message to topic ttm4115/team_1/collar\n",
      "2020-04-23 12:06:40,564 - __main__     - DEBUG    - Incoming message to topic ttm4115/team_1/collar\n",
      "2020-04-23 12:06:40,564 - __main__     - DEBUG    - Incoming message to topic ttm4115/team_1/collar\n"
     ]
    },
    {
     "name": "stdout",
     "output_type": "stream",
     "text": [
      "Kitty cat is home\n",
      "Kitty cat is home\n",
      "Not tracked cat, ignoring command\n",
      "Not tracked cat, ignoring command\n"
     ]
    },
    {
     "name": "stderr",
     "output_type": "stream",
     "text": [
      "2020-04-23 12:06:44,929 - __main__     - INFO     - {'command': 'send_data', 'name': 'Kitty', 'lat': '20', 'long': '90'}\n",
      "2020-04-23 12:06:44,929 - __main__     - INFO     - {'command': 'send_data', 'name': 'Kitty', 'lat': '20', 'long': '90'}\n",
      "2020-04-23 12:06:50,518 - __main__     - DEBUG    - Incoming message to topic ttm4115/team_1/collar\n",
      "2020-04-23 12:06:50,518 - __main__     - DEBUG    - Incoming message to topic ttm4115/team_1/collar\n",
      "2020-04-23 12:06:50,518 - __main__     - DEBUG    - Incoming message to topic ttm4115/team_1/collar\n",
      "2020-04-23 12:06:50,518 - __main__     - DEBUG    - Incoming message to topic ttm4115/team_1/collar\n",
      "2020-04-23 12:06:50,562 - __main__     - DEBUG    - Incoming message to topic ttm4115/team_1/collar\n",
      "2020-04-23 12:06:50,562 - __main__     - DEBUG    - Incoming message to topic ttm4115/team_1/collar\n",
      "2020-04-23 12:06:50,563 - __main__     - DEBUG    - Incoming message to topic ttm4115/team_1/collar\n",
      "2020-04-23 12:06:50,563 - __main__     - DEBUG    - Incoming message to topic ttm4115/team_1/collar\n"
     ]
    },
    {
     "name": "stdout",
     "output_type": "stream",
     "text": [
      "Kitty cat is home\n",
      "Kitty cat is home\n",
      "Not tracked cat, ignoring command\n",
      "Not tracked cat, ignoring command\n"
     ]
    },
    {
     "name": "stderr",
     "output_type": "stream",
     "text": [
      "2020-04-23 12:06:54,941 - __main__     - INFO     - {'command': 'send_data', 'name': 'Kitty', 'lat': '20', 'long': '90'}\n",
      "2020-04-23 12:06:54,941 - __main__     - INFO     - {'command': 'send_data', 'name': 'Kitty', 'lat': '20', 'long': '90'}\n",
      "2020-04-23 12:07:00,517 - __main__     - DEBUG    - Incoming message to topic ttm4115/team_1/collar\n",
      "2020-04-23 12:07:00,517 - __main__     - DEBUG    - Incoming message to topic ttm4115/team_1/collar\n",
      "2020-04-23 12:07:00,518 - __main__     - DEBUG    - Incoming message to topic ttm4115/team_1/collar\n",
      "2020-04-23 12:07:00,518 - __main__     - DEBUG    - Incoming message to topic ttm4115/team_1/collar\n",
      "2020-04-23 12:07:00,564 - __main__     - DEBUG    - Incoming message to topic ttm4115/team_1/collar\n",
      "2020-04-23 12:07:00,564 - __main__     - DEBUG    - Incoming message to topic ttm4115/team_1/collar\n",
      "2020-04-23 12:07:00,565 - __main__     - DEBUG    - Incoming message to topic ttm4115/team_1/collar\n",
      "2020-04-23 12:07:00,565 - __main__     - DEBUG    - Incoming message to topic ttm4115/team_1/collar\n"
     ]
    },
    {
     "name": "stdout",
     "output_type": "stream",
     "text": [
      "Kitty cat is home\n",
      "Kitty cat is home\n",
      "Not tracked cat, ignoring command\n",
      "Not tracked cat, ignoring command\n"
     ]
    },
    {
     "name": "stderr",
     "output_type": "stream",
     "text": [
      "2020-04-23 12:07:04,946 - __main__     - INFO     - {'command': 'send_data', 'name': 'Kitty', 'lat': '20', 'long': '90'}\n",
      "2020-04-23 12:07:04,946 - __main__     - INFO     - {'command': 'send_data', 'name': 'Kitty', 'lat': '20', 'long': '90'}\n",
      "2020-04-23 12:07:10,520 - __main__     - DEBUG    - Incoming message to topic ttm4115/team_1/collar\n",
      "2020-04-23 12:07:10,520 - __main__     - DEBUG    - Incoming message to topic ttm4115/team_1/collar\n",
      "2020-04-23 12:07:10,521 - __main__     - DEBUG    - Incoming message to topic ttm4115/team_1/collar\n",
      "2020-04-23 12:07:10,521 - __main__     - DEBUG    - Incoming message to topic ttm4115/team_1/collar\n",
      "2020-04-23 12:07:10,567 - __main__     - DEBUG    - Incoming message to topic ttm4115/team_1/collar\n",
      "2020-04-23 12:07:10,567 - __main__     - DEBUG    - Incoming message to topic ttm4115/team_1/collar\n",
      "2020-04-23 12:07:10,569 - __main__     - DEBUG    - Incoming message to topic ttm4115/team_1/collar\n",
      "2020-04-23 12:07:10,569 - __main__     - DEBUG    - Incoming message to topic ttm4115/team_1/collar\n"
     ]
    },
    {
     "name": "stdout",
     "output_type": "stream",
     "text": [
      "Kitty cat is home\n",
      "Kitty cat is home\n",
      "Not tracked cat, ignoring command\n",
      "Not tracked cat, ignoring command\n"
     ]
    },
    {
     "name": "stderr",
     "output_type": "stream",
     "text": [
      "2020-04-23 12:07:14,961 - __main__     - INFO     - {'command': 'send_data', 'name': 'Kitty', 'lat': '20', 'long': '90'}\n",
      "2020-04-23 12:07:14,961 - __main__     - INFO     - {'command': 'send_data', 'name': 'Kitty', 'lat': '20', 'long': '90'}\n",
      "2020-04-23 12:07:20,523 - __main__     - DEBUG    - Incoming message to topic ttm4115/team_1/collar\n",
      "2020-04-23 12:07:20,523 - __main__     - DEBUG    - Incoming message to topic ttm4115/team_1/collar\n",
      "2020-04-23 12:07:20,524 - __main__     - DEBUG    - Incoming message to topic ttm4115/team_1/collar\n",
      "2020-04-23 12:07:20,524 - __main__     - DEBUG    - Incoming message to topic ttm4115/team_1/collar\n",
      "2020-04-23 12:07:20,569 - __main__     - DEBUG    - Incoming message to topic ttm4115/team_1/collar\n",
      "2020-04-23 12:07:20,569 - __main__     - DEBUG    - Incoming message to topic ttm4115/team_1/collar\n",
      "2020-04-23 12:07:20,569 - __main__     - DEBUG    - Incoming message to topic ttm4115/team_1/collar\n",
      "2020-04-23 12:07:20,569 - __main__     - DEBUG    - Incoming message to topic ttm4115/team_1/collar\n"
     ]
    },
    {
     "name": "stdout",
     "output_type": "stream",
     "text": [
      "Kitty cat is home\n",
      "Kitty cat is home\n",
      "Not tracked cat, ignoring command\n",
      "Not tracked cat, ignoring command\n"
     ]
    },
    {
     "name": "stderr",
     "output_type": "stream",
     "text": [
      "2020-04-23 12:07:24,975 - __main__     - INFO     - {'command': 'send_data', 'name': 'Kitty', 'lat': '20', 'long': '90'}\n",
      "2020-04-23 12:07:24,975 - __main__     - INFO     - {'command': 'send_data', 'name': 'Kitty', 'lat': '20', 'long': '90'}\n",
      "2020-04-23 12:07:28,226 - __main__     - DEBUG    - Incoming message to topic ttm4115/team_1/collar\n",
      "2020-04-23 12:07:28,226 - __main__     - DEBUG    - Incoming message to topic ttm4115/team_1/collar\n",
      "2020-04-23 12:07:28,227 - __main__     - DEBUG    - Incoming message to topic ttm4115/team_1/collar\n",
      "2020-04-23 12:07:28,227 - __main__     - DEBUG    - Incoming message to topic ttm4115/team_1/collar\n",
      "2020-04-23 12:07:28,276 - __main__     - DEBUG    - Incoming message to topic ttm4115/team_1/collar\n",
      "2020-04-23 12:07:28,276 - __main__     - DEBUG    - Incoming message to topic ttm4115/team_1/collar\n",
      "2020-04-23 12:07:28,277 - __main__     - DEBUG    - Incoming message to topic ttm4115/team_1/collar\n",
      "2020-04-23 12:07:28,277 - __main__     - DEBUG    - Incoming message to topic ttm4115/team_1/collar\n"
     ]
    },
    {
     "name": "stdout",
     "output_type": "stream",
     "text": [
      "Kitty cat is home\n",
      "Kitty cat is home\n",
      "Not tracked cat, ignoring command\n",
      "Not tracked cat, ignoring command\n"
     ]
    },
    {
     "name": "stderr",
     "output_type": "stream",
     "text": [
      "2020-04-23 12:07:34,989 - __main__     - INFO     - {'command': 'send_data', 'name': 'Kitty', 'lat': '20', 'long': '90'}\n",
      "2020-04-23 12:07:34,989 - __main__     - INFO     - {'command': 'send_data', 'name': 'Kitty', 'lat': '20', 'long': '90'}\n",
      "2020-04-23 12:07:44,996 - __main__     - INFO     - {'command': 'send_data', 'name': 'Kitty', 'lat': '20', 'long': '90'}\n",
      "2020-04-23 12:07:44,996 - __main__     - INFO     - {'command': 'send_data', 'name': 'Kitty', 'lat': '20', 'long': '90'}\n",
      "2020-04-23 12:07:55,001 - __main__     - INFO     - {'command': 'send_data', 'name': 'Kitty', 'lat': '20', 'long': '90'}\n",
      "2020-04-23 12:07:55,001 - __main__     - INFO     - {'command': 'send_data', 'name': 'Kitty', 'lat': '20', 'long': '90'}\n",
      "2020-04-23 12:08:05,005 - __main__     - INFO     - {'command': 'send_data', 'name': 'Kitty', 'lat': '20', 'long': '90'}\n",
      "2020-04-23 12:08:05,005 - __main__     - INFO     - {'command': 'send_data', 'name': 'Kitty', 'lat': '20', 'long': '90'}\n",
      "2020-04-23 12:08:15,010 - __main__     - INFO     - {'command': 'send_data', 'name': 'Kitty', 'lat': '20', 'long': '90'}\n",
      "2020-04-23 12:08:15,010 - __main__     - INFO     - {'command': 'send_data', 'name': 'Kitty', 'lat': '20', 'long': '90'}\n",
      "2020-04-23 12:08:22,064 - __main__     - DEBUG    - Incoming message to topic ttm4115/team_1/collar\n",
      "2020-04-23 12:08:22,064 - __main__     - DEBUG    - Incoming message to topic ttm4115/team_1/collar\n",
      "2020-04-23 12:08:22,065 - __main__     - DEBUG    - Incoming message to topic ttm4115/team_1/collar\n",
      "2020-04-23 12:08:22,065 - __main__     - DEBUG    - Incoming message to topic ttm4115/team_1/collar\n",
      "2020-04-23 12:08:22,111 - __main__     - DEBUG    - Incoming message to topic ttm4115/team_1/collar\n",
      "2020-04-23 12:08:22,111 - __main__     - DEBUG    - Incoming message to topic ttm4115/team_1/collar\n",
      "2020-04-23 12:08:22,112 - __main__     - DEBUG    - Incoming message to topic ttm4115/team_1/collar\n",
      "2020-04-23 12:08:22,112 - __main__     - DEBUG    - Incoming message to topic ttm4115/team_1/collar\n"
     ]
    },
    {
     "name": "stdout",
     "output_type": "stream",
     "text": [
      "Kitty cat is home\n",
      "Kitty cat is home\n",
      "Not tracked cat, ignoring command\n",
      "Not tracked cat, ignoring command\n"
     ]
    },
    {
     "name": "stderr",
     "output_type": "stream",
     "text": [
      "2020-04-23 12:08:25,019 - __main__     - INFO     - {'command': 'send_data', 'name': 'Kitty', 'lat': '20', 'long': '90'}\n",
      "2020-04-23 12:08:25,019 - __main__     - INFO     - {'command': 'send_data', 'name': 'Kitty', 'lat': '20', 'long': '90'}\n",
      "2020-04-23 12:08:35,027 - __main__     - INFO     - {'command': 'send_data', 'name': 'Kitty', 'lat': '20', 'long': '90'}\n",
      "2020-04-23 12:08:35,027 - __main__     - INFO     - {'command': 'send_data', 'name': 'Kitty', 'lat': '20', 'long': '90'}\n",
      "2020-04-23 12:08:45,032 - __main__     - INFO     - {'command': 'send_data', 'name': 'Kitty', 'lat': '20', 'long': '90'}\n",
      "2020-04-23 12:08:45,032 - __main__     - INFO     - {'command': 'send_data', 'name': 'Kitty', 'lat': '20', 'long': '90'}\n",
      "2020-04-23 12:08:55,037 - __main__     - INFO     - {'command': 'send_data', 'name': 'Kitty', 'lat': '20', 'long': '90'}\n",
      "2020-04-23 12:08:55,037 - __main__     - INFO     - {'command': 'send_data', 'name': 'Kitty', 'lat': '20', 'long': '90'}\n",
      "2020-04-23 12:09:05,043 - __main__     - INFO     - {'command': 'send_data', 'name': 'Kitty', 'lat': '20', 'long': '90'}\n",
      "2020-04-23 12:09:05,043 - __main__     - INFO     - {'command': 'send_data', 'name': 'Kitty', 'lat': '20', 'long': '90'}\n",
      "2020-04-23 12:09:15,049 - __main__     - INFO     - {'command': 'send_data', 'name': 'Kitty', 'lat': '20', 'long': '90'}\n",
      "2020-04-23 12:09:15,049 - __main__     - INFO     - {'command': 'send_data', 'name': 'Kitty', 'lat': '20', 'long': '90'}\n",
      "2020-04-23 12:09:25,055 - __main__     - INFO     - {'command': 'send_data', 'name': 'Kitty', 'lat': '20', 'long': '90'}\n",
      "2020-04-23 12:09:25,055 - __main__     - INFO     - {'command': 'send_data', 'name': 'Kitty', 'lat': '20', 'long': '90'}\n",
      "2020-04-23 12:09:35,059 - __main__     - INFO     - {'command': 'send_data', 'name': 'Kitty', 'lat': '20', 'long': '90'}\n",
      "2020-04-23 12:09:35,059 - __main__     - INFO     - {'command': 'send_data', 'name': 'Kitty', 'lat': '20', 'long': '90'}\n",
      "2020-04-23 12:09:45,065 - __main__     - INFO     - {'command': 'send_data', 'name': 'Purr', 'lat': '20', 'long': '90'}\n",
      "2020-04-23 12:09:45,065 - __main__     - INFO     - {'command': 'send_data', 'name': 'Purr', 'lat': '20', 'long': '90'}\n",
      "2020-04-23 12:09:49,395 - __main__     - DEBUG    - Incoming message to topic ttm4115/team_1/collar\n",
      "2020-04-23 12:09:49,395 - __main__     - DEBUG    - Incoming message to topic ttm4115/team_1/collar\n",
      "2020-04-23 12:09:49,395 - __main__     - DEBUG    - Incoming message to topic ttm4115/team_1/collar\n",
      "2020-04-23 12:09:49,395 - __main__     - DEBUG    - Incoming message to topic ttm4115/team_1/collar\n",
      "2020-04-23 12:09:49,447 - __main__     - DEBUG    - Incoming message to topic ttm4115/team_1/collar\n",
      "2020-04-23 12:09:49,447 - __main__     - DEBUG    - Incoming message to topic ttm4115/team_1/collar\n",
      "2020-04-23 12:09:49,447 - __main__     - DEBUG    - Incoming message to topic ttm4115/team_1/collar\n",
      "2020-04-23 12:09:49,447 - __main__     - DEBUG    - Incoming message to topic ttm4115/team_1/collar\n"
     ]
    },
    {
     "name": "stdout",
     "output_type": "stream",
     "text": [
      "Kitty cat is home\n",
      "Kitty cat is home\n",
      "Not tracked cat, ignoring command\n",
      "Not tracked cat, ignoring command\n"
     ]
    },
    {
     "name": "stderr",
     "output_type": "stream",
     "text": [
      "2020-04-23 12:09:55,069 - __main__     - INFO     - {'command': 'send_data', 'name': 'Roger', 'lat': '20', 'long': '90'}\n",
      "2020-04-23 12:09:55,069 - __main__     - INFO     - {'command': 'send_data', 'name': 'Roger', 'lat': '20', 'long': '90'}\n",
      "2020-04-23 12:09:59,396 - __main__     - DEBUG    - Incoming message to topic ttm4115/team_1/collar\n",
      "2020-04-23 12:09:59,396 - __main__     - DEBUG    - Incoming message to topic ttm4115/team_1/collar\n",
      "2020-04-23 12:09:59,396 - __main__     - DEBUG    - Incoming message to topic ttm4115/team_1/collar\n",
      "2020-04-23 12:09:59,396 - __main__     - DEBUG    - Incoming message to topic ttm4115/team_1/collar\n",
      "2020-04-23 12:09:59,442 - __main__     - DEBUG    - Incoming message to topic ttm4115/team_1/collar\n",
      "2020-04-23 12:09:59,442 - __main__     - DEBUG    - Incoming message to topic ttm4115/team_1/collar\n",
      "2020-04-23 12:09:59,443 - __main__     - DEBUG    - Incoming message to topic ttm4115/team_1/collar\n",
      "2020-04-23 12:09:59,443 - __main__     - DEBUG    - Incoming message to topic ttm4115/team_1/collar\n"
     ]
    },
    {
     "name": "stdout",
     "output_type": "stream",
     "text": [
      "Kitty cat is home\n",
      "Kitty cat is home\n",
      "Not tracked cat, ignoring command\n",
      "Not tracked cat, ignoring command\n"
     ]
    },
    {
     "name": "stderr",
     "output_type": "stream",
     "text": [
      "2020-04-23 12:10:05,072 - __main__     - INFO     - {'command': 'send_data', 'name': 'Kitty', 'lat': '20', 'long': '90'}\n",
      "2020-04-23 12:10:05,072 - __main__     - INFO     - {'command': 'send_data', 'name': 'Kitty', 'lat': '20', 'long': '90'}\n",
      "2020-04-23 12:10:15,079 - __main__     - INFO     - {'command': 'send_data', 'name': 'Kitty', 'lat': '50', 'long': ''}\n",
      "2020-04-23 12:10:15,079 - __main__     - INFO     - {'command': 'send_data', 'name': 'Kitty', 'lat': '50', 'long': ''}\n",
      "2020-04-23 12:10:25,083 - __main__     - INFO     - {'command': 'send_data', 'name': 'Kitty', 'lat': '50', 'long': '60'}\n",
      "2020-04-23 12:10:25,083 - __main__     - INFO     - {'command': 'send_data', 'name': 'Kitty', 'lat': '50', 'long': '60'}\n",
      "2020-04-23 12:10:35,090 - __main__     - INFO     - {'command': 'send_data', 'name': 'Kitty', 'lat': '50', 'long': '60'}\n",
      "2020-04-23 12:10:35,090 - __main__     - INFO     - {'command': 'send_data', 'name': 'Kitty', 'lat': '50', 'long': '60'}\n",
      "2020-04-23 12:10:45,095 - __main__     - INFO     - {'command': 'send_data', 'name': 'Kitty', 'lat': '50', 'long': '60'}\n",
      "2020-04-23 12:10:45,095 - __main__     - INFO     - {'command': 'send_data', 'name': 'Kitty', 'lat': '50', 'long': '60'}\n",
      "2020-04-23 12:10:55,101 - __main__     - INFO     - {'command': 'send_data', 'name': 'Kitty', 'lat': '50', 'long': '60'}\n",
      "2020-04-23 12:10:55,101 - __main__     - INFO     - {'command': 'send_data', 'name': 'Kitty', 'lat': '50', 'long': '60'}\n",
      "2020-04-23 12:11:05,106 - __main__     - INFO     - {'command': 'send_data', 'name': 'Kitty', 'lat': '50', 'long': '60'}\n",
      "2020-04-23 12:11:05,106 - __main__     - INFO     - {'command': 'send_data', 'name': 'Kitty', 'lat': '50', 'long': '60'}\n",
      "2020-04-23 12:11:15,110 - __main__     - INFO     - {'command': 'send_data', 'name': 'Kitty', 'lat': '50', 'long': '60'}\n",
      "2020-04-23 12:11:15,110 - __main__     - INFO     - {'command': 'send_data', 'name': 'Kitty', 'lat': '50', 'long': '60'}\n",
      "2020-04-23 12:11:25,115 - __main__     - INFO     - {'command': 'send_data', 'name': 'Kitty', 'lat': '50', 'long': '60'}\n",
      "2020-04-23 12:11:25,115 - __main__     - INFO     - {'command': 'send_data', 'name': 'Kitty', 'lat': '50', 'long': '60'}\n",
      "2020-04-23 12:11:35,121 - __main__     - INFO     - {'command': 'send_data', 'name': 'Kitty', 'lat': '50', 'long': '60'}\n",
      "2020-04-23 12:11:35,121 - __main__     - INFO     - {'command': 'send_data', 'name': 'Kitty', 'lat': '50', 'long': '60'}\n",
      "2020-04-23 12:11:45,126 - __main__     - INFO     - {'command': 'send_data', 'name': 'Kitty', 'lat': '50', 'long': '60'}\n",
      "2020-04-23 12:11:45,126 - __main__     - INFO     - {'command': 'send_data', 'name': 'Kitty', 'lat': '50', 'long': '60'}\n",
      "2020-04-23 12:11:55,132 - __main__     - INFO     - {'command': 'send_data', 'name': 'Kitty', 'lat': '50', 'long': '60'}\n",
      "2020-04-23 12:11:55,132 - __main__     - INFO     - {'command': 'send_data', 'name': 'Kitty', 'lat': '50', 'long': '60'}\n",
      "2020-04-23 12:12:02,410 - __main__     - DEBUG    - Incoming message to topic ttm4115/team_1/collar\n",
      "2020-04-23 12:12:02,410 - __main__     - DEBUG    - Incoming message to topic ttm4115/team_1/collar\n",
      "2020-04-23 12:12:02,410 - __main__     - DEBUG    - Incoming message to topic ttm4115/team_1/collar\n",
      "2020-04-23 12:12:02,410 - __main__     - DEBUG    - Incoming message to topic ttm4115/team_1/collar\n",
      "2020-04-23 12:12:02,455 - __main__     - DEBUG    - Incoming message to topic ttm4115/team_1/collar\n",
      "2020-04-23 12:12:02,455 - __main__     - DEBUG    - Incoming message to topic ttm4115/team_1/collar\n",
      "2020-04-23 12:12:02,456 - __main__     - DEBUG    - Incoming message to topic ttm4115/team_1/collar\n",
      "2020-04-23 12:12:02,456 - __main__     - DEBUG    - Incoming message to topic ttm4115/team_1/collar\n"
     ]
    },
    {
     "name": "stdout",
     "output_type": "stream",
     "text": [
      "Kitty cat is home\n",
      "Kitty cat is home\n",
      "Not tracked cat, ignoring command\n",
      "Not tracked cat, ignoring command\n"
     ]
    },
    {
     "name": "stderr",
     "output_type": "stream",
     "text": [
      "2020-04-23 12:12:05,144 - __main__     - INFO     - {'command': 'send_data', 'name': 'Kitty', 'lat': '50', 'long': '60'}\n",
      "2020-04-23 12:12:05,144 - __main__     - INFO     - {'command': 'send_data', 'name': 'Kitty', 'lat': '50', 'long': '60'}\n",
      "2020-04-23 12:12:15,152 - __main__     - INFO     - {'command': 'send_data', 'name': 'Kitty', 'lat': '50', 'long': '60'}\n",
      "2020-04-23 12:12:15,152 - __main__     - INFO     - {'command': 'send_data', 'name': 'Kitty', 'lat': '50', 'long': '60'}\n",
      "2020-04-23 12:12:25,155 - __main__     - INFO     - {'command': 'send_data', 'name': 'Kitty', 'lat': '50', 'long': '60'}\n",
      "2020-04-23 12:12:25,155 - __main__     - INFO     - {'command': 'send_data', 'name': 'Kitty', 'lat': '50', 'long': '60'}\n",
      "2020-04-23 12:12:35,158 - __main__     - INFO     - {'command': 'send_data', 'name': 'Kitty', 'lat': '50', 'long': '60'}\n",
      "2020-04-23 12:12:35,158 - __main__     - INFO     - {'command': 'send_data', 'name': 'Kitty', 'lat': '50', 'long': '60'}\n",
      "2020-04-23 12:12:45,161 - __main__     - INFO     - {'command': 'send_data', 'name': 'Kitty', 'lat': '50', 'long': '60'}\n",
      "2020-04-23 12:12:45,161 - __main__     - INFO     - {'command': 'send_data', 'name': 'Kitty', 'lat': '50', 'long': '60'}\n",
      "2020-04-23 12:12:55,164 - __main__     - INFO     - {'command': 'send_data', 'name': 'Kitty', 'lat': '50', 'long': '60'}\n",
      "2020-04-23 12:12:55,164 - __main__     - INFO     - {'command': 'send_data', 'name': 'Kitty', 'lat': '50', 'long': '60'}\n",
      "2020-04-23 12:13:05,167 - __main__     - INFO     - {'command': 'send_data', 'name': 'Kitty', 'lat': '50', 'long': '60'}\n",
      "2020-04-23 12:13:05,167 - __main__     - INFO     - {'command': 'send_data', 'name': 'Kitty', 'lat': '50', 'long': '60'}\n",
      "2020-04-23 12:13:14,405 - __main__     - DEBUG    - Incoming message to topic ttm4115/team_1/collar\n",
      "2020-04-23 12:13:14,405 - __main__     - DEBUG    - Incoming message to topic ttm4115/team_1/collar\n",
      "2020-04-23 12:13:14,405 - __main__     - DEBUG    - Incoming message to topic ttm4115/team_1/collar\n",
      "2020-04-23 12:13:14,405 - __main__     - DEBUG    - Incoming message to topic ttm4115/team_1/collar\n",
      "2020-04-23 12:13:14,457 - __main__     - DEBUG    - Incoming message to topic ttm4115/team_1/collar\n",
      "2020-04-23 12:13:14,457 - __main__     - DEBUG    - Incoming message to topic ttm4115/team_1/collar\n",
      "2020-04-23 12:13:14,458 - __main__     - DEBUG    - Incoming message to topic ttm4115/team_1/collar\n",
      "2020-04-23 12:13:14,458 - __main__     - DEBUG    - Incoming message to topic ttm4115/team_1/collar\n"
     ]
    },
    {
     "name": "stdout",
     "output_type": "stream",
     "text": [
      "Kitty cat is home\n",
      "Kitty cat is home\n",
      "Not tracked cat, ignoring command\n",
      "Not tracked cat, ignoring command\n"
     ]
    },
    {
     "name": "stderr",
     "output_type": "stream",
     "text": [
      "2020-04-23 12:13:15,182 - __main__     - INFO     - {'command': 'send_data', 'name': 'Kitty', 'lat': '50', 'long': '60'}\n",
      "2020-04-23 12:13:15,182 - __main__     - INFO     - {'command': 'send_data', 'name': 'Kitty', 'lat': '50', 'long': '60'}\n",
      "2020-04-23 12:13:25,186 - __main__     - INFO     - {'command': 'send_data', 'name': 'Kitty', 'lat': '50', 'long': '60'}\n",
      "2020-04-23 12:13:25,186 - __main__     - INFO     - {'command': 'send_data', 'name': 'Kitty', 'lat': '50', 'long': '60'}\n",
      "2020-04-23 12:13:35,190 - __main__     - INFO     - {'command': 'send_data', 'name': 'Kitty', 'lat': '50', 'long': '60'}\n",
      "2020-04-23 12:13:35,190 - __main__     - INFO     - {'command': 'send_data', 'name': 'Kitty', 'lat': '50', 'long': '60'}\n",
      "2020-04-23 12:13:45,194 - __main__     - INFO     - {'command': 'send_data', 'name': 'Kitty', 'lat': '50', 'long': '60'}\n",
      "2020-04-23 12:13:45,194 - __main__     - INFO     - {'command': 'send_data', 'name': 'Kitty', 'lat': '50', 'long': '60'}\n",
      "2020-04-23 12:13:55,199 - __main__     - INFO     - {'command': 'send_data', 'name': 'Kitty', 'lat': '50', 'long': '60'}\n",
      "2020-04-23 12:13:55,199 - __main__     - INFO     - {'command': 'send_data', 'name': 'Kitty', 'lat': '50', 'long': '60'}\n",
      "2020-04-23 12:14:05,202 - __main__     - INFO     - {'command': 'send_data', 'name': 'Kitty', 'lat': '50', 'long': '60'}\n",
      "2020-04-23 12:14:05,202 - __main__     - INFO     - {'command': 'send_data', 'name': 'Kitty', 'lat': '50', 'long': '60'}\n",
      "2020-04-23 12:14:11,788 - __main__     - DEBUG    - Incoming message to topic ttm4115/team_1/collar\n",
      "2020-04-23 12:14:11,788 - __main__     - DEBUG    - Incoming message to topic ttm4115/team_1/collar\n",
      "2020-04-23 12:14:11,788 - __main__     - DEBUG    - Incoming message to topic ttm4115/team_1/collar\n",
      "2020-04-23 12:14:11,788 - __main__     - DEBUG    - Incoming message to topic ttm4115/team_1/collar\n",
      "2020-04-23 12:14:11,856 - __main__     - DEBUG    - Incoming message to topic ttm4115/team_1/collar\n",
      "2020-04-23 12:14:11,856 - __main__     - DEBUG    - Incoming message to topic ttm4115/team_1/collar\n",
      "2020-04-23 12:14:11,856 - __main__     - DEBUG    - Incoming message to topic ttm4115/team_1/collar\n",
      "2020-04-23 12:14:11,856 - __main__     - DEBUG    - Incoming message to topic ttm4115/team_1/collar\n"
     ]
    },
    {
     "name": "stdout",
     "output_type": "stream",
     "text": [
      "Kitty cat is home\n",
      "Kitty cat is home\n",
      "Not tracked cat, ignoring command\n",
      "Not tracked cat, ignoring command\n"
     ]
    },
    {
     "name": "stderr",
     "output_type": "stream",
     "text": [
      "2020-04-23 12:14:15,209 - __main__     - INFO     - {'command': 'send_data', 'name': 'Kitty', 'lat': '50', 'long': '60'}\n",
      "2020-04-23 12:14:15,209 - __main__     - INFO     - {'command': 'send_data', 'name': 'Kitty', 'lat': '50', 'long': '60'}\n",
      "2020-04-23 12:14:25,212 - __main__     - INFO     - {'command': 'send_data', 'name': 'Kitty', 'lat': '50', 'long': '60'}\n",
      "2020-04-23 12:14:25,212 - __main__     - INFO     - {'command': 'send_data', 'name': 'Kitty', 'lat': '50', 'long': '60'}\n",
      "2020-04-23 12:14:35,217 - __main__     - INFO     - {'command': 'send_data', 'name': 'Kitty', 'lat': '50', 'long': '60'}\n",
      "2020-04-23 12:14:35,217 - __main__     - INFO     - {'command': 'send_data', 'name': 'Kitty', 'lat': '50', 'long': '60'}\n",
      "2020-04-23 12:14:45,228 - __main__     - INFO     - {'command': 'send_data', 'name': 'Kitty', 'lat': '50', 'long': '60'}\n",
      "2020-04-23 12:14:45,228 - __main__     - INFO     - {'command': 'send_data', 'name': 'Kitty', 'lat': '50', 'long': '60'}\n",
      "2020-04-23 12:14:55,234 - __main__     - INFO     - {'command': 'send_data', 'name': 'Kitty', 'lat': '50', 'long': '60'}\n",
      "2020-04-23 12:14:55,234 - __main__     - INFO     - {'command': 'send_data', 'name': 'Kitty', 'lat': '50', 'long': '60'}\n",
      "2020-04-23 12:15:00,454 - __main__     - DEBUG    - Incoming message to topic ttm4115/team_1/collar\n",
      "2020-04-23 12:15:00,454 - __main__     - DEBUG    - Incoming message to topic ttm4115/team_1/collar\n",
      "2020-04-23 12:15:00,454 - __main__     - DEBUG    - Incoming message to topic ttm4115/team_1/collar\n",
      "2020-04-23 12:15:00,454 - __main__     - DEBUG    - Incoming message to topic ttm4115/team_1/collar\n",
      "2020-04-23 12:15:00,497 - __main__     - DEBUG    - Incoming message to topic ttm4115/team_1/collar\n",
      "2020-04-23 12:15:00,497 - __main__     - DEBUG    - Incoming message to topic ttm4115/team_1/collar\n",
      "2020-04-23 12:15:00,498 - __main__     - DEBUG    - Incoming message to topic ttm4115/team_1/collar\n",
      "2020-04-23 12:15:00,498 - __main__     - DEBUG    - Incoming message to topic ttm4115/team_1/collar\n"
     ]
    },
    {
     "name": "stdout",
     "output_type": "stream",
     "text": [
      "Kitty cat is home\n",
      "Kitty cat is home\n",
      "Not tracked cat, ignoring command\n",
      "Not tracked cat, ignoring command\n"
     ]
    },
    {
     "name": "stderr",
     "output_type": "stream",
     "text": [
      "2020-04-23 12:15:05,249 - __main__     - INFO     - {'command': 'send_data', 'name': 'Kitty', 'lat': '50', 'long': '60'}\n",
      "2020-04-23 12:15:05,249 - __main__     - INFO     - {'command': 'send_data', 'name': 'Kitty', 'lat': '50', 'long': '60'}\n",
      "2020-04-23 12:15:15,253 - __main__     - INFO     - {'command': 'send_data', 'name': 'Kitty', 'lat': '50', 'long': '60'}\n",
      "2020-04-23 12:15:15,253 - __main__     - INFO     - {'command': 'send_data', 'name': 'Kitty', 'lat': '50', 'long': '60'}\n",
      "2020-04-23 12:15:25,261 - __main__     - INFO     - {'command': 'send_data', 'name': 'Kitty', 'lat': '50', 'long': '60'}\n",
      "2020-04-23 12:15:25,261 - __main__     - INFO     - {'command': 'send_data', 'name': 'Kitty', 'lat': '50', 'long': '60'}\n",
      "2020-04-23 12:15:35,267 - __main__     - INFO     - {'command': 'send_data', 'name': 'Kitty', 'lat': '50', 'long': '60'}\n",
      "2020-04-23 12:15:35,267 - __main__     - INFO     - {'command': 'send_data', 'name': 'Kitty', 'lat': '50', 'long': '60'}\n",
      "2020-04-23 12:15:35,522 - __main__     - DEBUG    - Incoming message to topic ttm4115/team_1/collar\n",
      "2020-04-23 12:15:35,522 - __main__     - DEBUG    - Incoming message to topic ttm4115/team_1/collar\n",
      "2020-04-23 12:15:35,523 - __main__     - DEBUG    - Incoming message to topic ttm4115/team_1/collar\n",
      "2020-04-23 12:15:35,523 - __main__     - DEBUG    - Incoming message to topic ttm4115/team_1/collar\n",
      "2020-04-23 12:15:35,565 - __main__     - DEBUG    - Incoming message to topic ttm4115/team_1/collar\n",
      "2020-04-23 12:15:35,565 - __main__     - DEBUG    - Incoming message to topic ttm4115/team_1/collar\n",
      "2020-04-23 12:15:35,566 - __main__     - DEBUG    - Incoming message to topic ttm4115/team_1/collar\n",
      "2020-04-23 12:15:35,566 - __main__     - DEBUG    - Incoming message to topic ttm4115/team_1/collar\n"
     ]
    },
    {
     "name": "stdout",
     "output_type": "stream",
     "text": [
      "Kitty cat is home\n",
      "Kitty cat is home\n",
      "Not tracked cat, ignoring command\n",
      "Not tracked cat, ignoring command\n"
     ]
    },
    {
     "name": "stderr",
     "output_type": "stream",
     "text": [
      "2020-04-23 12:15:45,272 - __main__     - INFO     - {'command': 'send_data', 'name': 'Kitty', 'lat': '50', 'long': '60'}\n",
      "2020-04-23 12:15:45,272 - __main__     - INFO     - {'command': 'send_data', 'name': 'Kitty', 'lat': '50', 'long': '60'}\n",
      "2020-04-23 12:15:55,277 - __main__     - INFO     - {'command': 'send_data', 'name': 'Kitty', 'lat': '50', 'long': '60'}\n",
      "2020-04-23 12:15:55,277 - __main__     - INFO     - {'command': 'send_data', 'name': 'Kitty', 'lat': '50', 'long': '60'}\n",
      "2020-04-23 12:16:05,282 - __main__     - INFO     - {'command': 'send_data', 'name': 'Kitty', 'lat': '50', 'long': '60'}\n",
      "2020-04-23 12:16:05,282 - __main__     - INFO     - {'command': 'send_data', 'name': 'Kitty', 'lat': '50', 'long': '60'}\n",
      "2020-04-23 12:16:15,288 - __main__     - INFO     - {'command': 'send_data', 'name': 'Kitty', 'lat': '50', 'long': '60'}\n",
      "2020-04-23 12:16:15,288 - __main__     - INFO     - {'command': 'send_data', 'name': 'Kitty', 'lat': '50', 'long': '60'}\n",
      "2020-04-23 12:16:25,291 - __main__     - INFO     - {'command': 'send_data', 'name': 'Kitty', 'lat': '50', 'long': '60'}\n",
      "2020-04-23 12:16:25,291 - __main__     - INFO     - {'command': 'send_data', 'name': 'Kitty', 'lat': '50', 'long': '60'}\n",
      "2020-04-23 12:16:35,297 - __main__     - INFO     - {'command': 'send_data', 'name': 'Kitty', 'lat': '50', 'long': '60'}\n",
      "2020-04-23 12:16:35,297 - __main__     - INFO     - {'command': 'send_data', 'name': 'Kitty', 'lat': '50', 'long': '60'}\n",
      "2020-04-23 12:16:45,301 - __main__     - INFO     - {'command': 'send_data', 'name': 'Kitty', 'lat': '50', 'long': '60'}\n",
      "2020-04-23 12:16:45,301 - __main__     - INFO     - {'command': 'send_data', 'name': 'Kitty', 'lat': '50', 'long': '60'}\n",
      "2020-04-23 12:16:46,206 - __main__     - DEBUG    - Incoming message to topic ttm4115/team_1/collar\n",
      "2020-04-23 12:16:46,206 - __main__     - DEBUG    - Incoming message to topic ttm4115/team_1/collar\n",
      "2020-04-23 12:16:46,208 - __main__     - DEBUG    - Incoming message to topic ttm4115/team_1/collar\n",
      "2020-04-23 12:16:46,208 - __main__     - DEBUG    - Incoming message to topic ttm4115/team_1/collar\n",
      "2020-04-23 12:16:46,249 - __main__     - DEBUG    - Incoming message to topic ttm4115/team_1/collar\n",
      "2020-04-23 12:16:46,249 - __main__     - DEBUG    - Incoming message to topic ttm4115/team_1/collar\n",
      "2020-04-23 12:16:46,251 - __main__     - DEBUG    - Incoming message to topic ttm4115/team_1/collar\n",
      "2020-04-23 12:16:46,251 - __main__     - DEBUG    - Incoming message to topic ttm4115/team_1/collar\n"
     ]
    },
    {
     "name": "stdout",
     "output_type": "stream",
     "text": [
      "Kitty cat is home\n",
      "Kitty cat is home\n",
      "Not tracked cat, ignoring command\n",
      "Not tracked cat, ignoring command\n"
     ]
    },
    {
     "name": "stderr",
     "output_type": "stream",
     "text": [
      "2020-04-23 12:16:55,310 - __main__     - INFO     - {'command': 'send_data', 'name': 'Kitty', 'lat': '50', 'long': '60'}\n",
      "2020-04-23 12:16:55,310 - __main__     - INFO     - {'command': 'send_data', 'name': 'Kitty', 'lat': '50', 'long': '60'}\n",
      "2020-04-23 12:16:56,204 - __main__     - DEBUG    - Incoming message to topic ttm4115/team_1/collar\n",
      "2020-04-23 12:16:56,204 - __main__     - DEBUG    - Incoming message to topic ttm4115/team_1/collar\n",
      "2020-04-23 12:16:56,205 - __main__     - DEBUG    - Incoming message to topic ttm4115/team_1/collar\n",
      "2020-04-23 12:16:56,205 - __main__     - DEBUG    - Incoming message to topic ttm4115/team_1/collar\n"
     ]
    },
    {
     "name": "stdout",
     "output_type": "stream",
     "text": [
      "Not tracked cat, ignoring command\n",
      "Not tracked cat, ignoring command\n"
     ]
    },
    {
     "name": "stderr",
     "output_type": "stream",
     "text": [
      "2020-04-23 12:17:05,313 - __main__     - INFO     - {'command': 'send_data', 'name': 'Kitty', 'lat': '50', 'long': '60'}\n",
      "2020-04-23 12:17:05,313 - __main__     - INFO     - {'command': 'send_data', 'name': 'Kitty', 'lat': '50', 'long': '60'}\n",
      "2020-04-23 12:17:06,218 - __main__     - DEBUG    - Incoming message to topic ttm4115/team_1/collar\n",
      "2020-04-23 12:17:06,218 - __main__     - DEBUG    - Incoming message to topic ttm4115/team_1/collar\n",
      "2020-04-23 12:17:06,219 - __main__     - DEBUG    - Incoming message to topic ttm4115/team_1/collar\n",
      "2020-04-23 12:17:06,219 - __main__     - DEBUG    - Incoming message to topic ttm4115/team_1/collar\n"
     ]
    },
    {
     "name": "stdout",
     "output_type": "stream",
     "text": [
      "Not tracked cat, ignoring command\n",
      "Not tracked cat, ignoring command\n"
     ]
    },
    {
     "name": "stderr",
     "output_type": "stream",
     "text": [
      "2020-04-23 12:17:15,317 - __main__     - INFO     - {'command': 'send_data', 'name': 'Kitty', 'lat': '50', 'long': '60'}\n",
      "2020-04-23 12:17:15,317 - __main__     - INFO     - {'command': 'send_data', 'name': 'Kitty', 'lat': '50', 'long': '60'}\n",
      "2020-04-23 12:17:16,212 - __main__     - DEBUG    - Incoming message to topic ttm4115/team_1/collar\n",
      "2020-04-23 12:17:16,212 - __main__     - DEBUG    - Incoming message to topic ttm4115/team_1/collar\n",
      "2020-04-23 12:17:16,212 - __main__     - DEBUG    - Incoming message to topic ttm4115/team_1/collar\n",
      "2020-04-23 12:17:16,212 - __main__     - DEBUG    - Incoming message to topic ttm4115/team_1/collar\n"
     ]
    },
    {
     "name": "stdout",
     "output_type": "stream",
     "text": [
      "Not tracked cat, ignoring command\n",
      "Not tracked cat, ignoring command\n"
     ]
    },
    {
     "name": "stderr",
     "output_type": "stream",
     "text": [
      "2020-04-23 12:17:25,324 - __main__     - INFO     - {'command': 'send_data', 'name': 'Kitty', 'lat': '50', 'long': '60'}\n",
      "2020-04-23 12:17:25,324 - __main__     - INFO     - {'command': 'send_data', 'name': 'Kitty', 'lat': '50', 'long': '60'}\n",
      "2020-04-23 12:17:26,215 - __main__     - DEBUG    - Incoming message to topic ttm4115/team_1/collar\n",
      "2020-04-23 12:17:26,215 - __main__     - DEBUG    - Incoming message to topic ttm4115/team_1/collar\n",
      "2020-04-23 12:17:26,217 - __main__     - DEBUG    - Incoming message to topic ttm4115/team_1/collar\n",
      "2020-04-23 12:17:26,217 - __main__     - DEBUG    - Incoming message to topic ttm4115/team_1/collar\n"
     ]
    },
    {
     "name": "stdout",
     "output_type": "stream",
     "text": [
      "Not tracked cat, ignoring command\n",
      "Not tracked cat, ignoring command\n"
     ]
    },
    {
     "name": "stderr",
     "output_type": "stream",
     "text": [
      "2020-04-23 12:17:35,330 - __main__     - INFO     - {'command': 'send_data', 'name': 'Kitty', 'lat': '50', 'long': '60'}\n",
      "2020-04-23 12:17:35,330 - __main__     - INFO     - {'command': 'send_data', 'name': 'Kitty', 'lat': '50', 'long': '60'}\n",
      "2020-04-23 12:17:36,210 - __main__     - DEBUG    - Incoming message to topic ttm4115/team_1/collar\n",
      "2020-04-23 12:17:36,210 - __main__     - DEBUG    - Incoming message to topic ttm4115/team_1/collar\n",
      "2020-04-23 12:17:36,211 - __main__     - DEBUG    - Incoming message to topic ttm4115/team_1/collar\n",
      "2020-04-23 12:17:36,211 - __main__     - DEBUG    - Incoming message to topic ttm4115/team_1/collar\n"
     ]
    },
    {
     "name": "stdout",
     "output_type": "stream",
     "text": [
      "Not tracked cat, ignoring command\n",
      "Not tracked cat, ignoring command\n"
     ]
    },
    {
     "name": "stderr",
     "output_type": "stream",
     "text": [
      "2020-04-23 12:17:45,338 - __main__     - INFO     - {'command': 'send_data', 'name': 'Kitty', 'lat': '50', 'long': '60'}\n",
      "2020-04-23 12:17:45,338 - __main__     - INFO     - {'command': 'send_data', 'name': 'Kitty', 'lat': '50', 'long': '60'}\n",
      "2020-04-23 12:17:46,214 - __main__     - DEBUG    - Incoming message to topic ttm4115/team_1/collar\n",
      "2020-04-23 12:17:46,214 - __main__     - DEBUG    - Incoming message to topic ttm4115/team_1/collar\n",
      "2020-04-23 12:17:46,215 - __main__     - DEBUG    - Incoming message to topic ttm4115/team_1/collar\n",
      "2020-04-23 12:17:46,215 - __main__     - DEBUG    - Incoming message to topic ttm4115/team_1/collar\n"
     ]
    },
    {
     "name": "stdout",
     "output_type": "stream",
     "text": [
      "Not tracked cat, ignoring command\n",
      "Not tracked cat, ignoring command\n"
     ]
    },
    {
     "name": "stderr",
     "output_type": "stream",
     "text": [
      "2020-04-23 12:17:55,345 - __main__     - INFO     - {'command': 'send_data', 'name': 'Kitty', 'lat': '50', 'long': '60'}\n",
      "2020-04-23 12:17:55,345 - __main__     - INFO     - {'command': 'send_data', 'name': 'Kitty', 'lat': '50', 'long': '60'}\n",
      "2020-04-23 12:17:56,217 - __main__     - DEBUG    - Incoming message to topic ttm4115/team_1/collar\n",
      "2020-04-23 12:17:56,217 - __main__     - DEBUG    - Incoming message to topic ttm4115/team_1/collar\n",
      "2020-04-23 12:17:56,219 - __main__     - DEBUG    - Incoming message to topic ttm4115/team_1/collar\n",
      "2020-04-23 12:17:56,219 - __main__     - DEBUG    - Incoming message to topic ttm4115/team_1/collar\n"
     ]
    },
    {
     "name": "stdout",
     "output_type": "stream",
     "text": [
      "Not tracked cat, ignoring command\n",
      "Not tracked cat, ignoring command\n"
     ]
    },
    {
     "name": "stderr",
     "output_type": "stream",
     "text": [
      "2020-04-23 12:18:05,358 - __main__     - INFO     - {'command': 'send_data', 'name': 'Kitty', 'lat': '50', 'long': '60'}\n",
      "2020-04-23 12:18:05,358 - __main__     - INFO     - {'command': 'send_data', 'name': 'Kitty', 'lat': '50', 'long': '60'}\n",
      "2020-04-23 12:18:06,215 - __main__     - DEBUG    - Incoming message to topic ttm4115/team_1/collar\n",
      "2020-04-23 12:18:06,215 - __main__     - DEBUG    - Incoming message to topic ttm4115/team_1/collar\n",
      "2020-04-23 12:18:06,215 - __main__     - DEBUG    - Incoming message to topic ttm4115/team_1/collar\n",
      "2020-04-23 12:18:06,215 - __main__     - DEBUG    - Incoming message to topic ttm4115/team_1/collar\n"
     ]
    },
    {
     "name": "stdout",
     "output_type": "stream",
     "text": [
      "Not tracked cat, ignoring command\n",
      "Not tracked cat, ignoring command\n"
     ]
    },
    {
     "name": "stderr",
     "output_type": "stream",
     "text": [
      "2020-04-23 12:18:15,362 - __main__     - INFO     - {'command': 'send_data', 'name': 'Kitty', 'lat': '50', 'long': '60'}\n",
      "2020-04-23 12:18:15,362 - __main__     - INFO     - {'command': 'send_data', 'name': 'Kitty', 'lat': '50', 'long': '60'}\n",
      "2020-04-23 12:18:16,217 - __main__     - DEBUG    - Incoming message to topic ttm4115/team_1/collar\n",
      "2020-04-23 12:18:16,217 - __main__     - DEBUG    - Incoming message to topic ttm4115/team_1/collar\n",
      "2020-04-23 12:18:16,218 - __main__     - DEBUG    - Incoming message to topic ttm4115/team_1/collar\n",
      "2020-04-23 12:18:16,218 - __main__     - DEBUG    - Incoming message to topic ttm4115/team_1/collar\n"
     ]
    },
    {
     "name": "stdout",
     "output_type": "stream",
     "text": [
      "Not tracked cat, ignoring command\n",
      "Not tracked cat, ignoring command\n"
     ]
    },
    {
     "name": "stderr",
     "output_type": "stream",
     "text": [
      "2020-04-23 12:18:25,367 - __main__     - INFO     - {'command': 'send_data', 'name': 'Kitty', 'lat': '50', 'long': '60'}\n",
      "2020-04-23 12:18:25,367 - __main__     - INFO     - {'command': 'send_data', 'name': 'Kitty', 'lat': '50', 'long': '60'}\n",
      "2020-04-23 12:18:26,217 - __main__     - DEBUG    - Incoming message to topic ttm4115/team_1/collar\n",
      "2020-04-23 12:18:26,217 - __main__     - DEBUG    - Incoming message to topic ttm4115/team_1/collar\n",
      "2020-04-23 12:18:26,218 - __main__     - DEBUG    - Incoming message to topic ttm4115/team_1/collar\n",
      "2020-04-23 12:18:26,218 - __main__     - DEBUG    - Incoming message to topic ttm4115/team_1/collar\n"
     ]
    },
    {
     "name": "stdout",
     "output_type": "stream",
     "text": [
      "Not tracked cat, ignoring command\n",
      "Not tracked cat, ignoring command\n"
     ]
    },
    {
     "name": "stderr",
     "output_type": "stream",
     "text": [
      "2020-04-23 12:18:35,373 - __main__     - INFO     - {'command': 'send_data', 'name': 'Kitty', 'lat': '50', 'long': '60'}\n",
      "2020-04-23 12:18:35,373 - __main__     - INFO     - {'command': 'send_data', 'name': 'Kitty', 'lat': '50', 'long': '60'}\n",
      "2020-04-23 12:18:36,221 - __main__     - DEBUG    - Incoming message to topic ttm4115/team_1/collar\n",
      "2020-04-23 12:18:36,221 - __main__     - DEBUG    - Incoming message to topic ttm4115/team_1/collar\n",
      "2020-04-23 12:18:36,221 - __main__     - DEBUG    - Incoming message to topic ttm4115/team_1/collar\n",
      "2020-04-23 12:18:36,221 - __main__     - DEBUG    - Incoming message to topic ttm4115/team_1/collar\n"
     ]
    },
    {
     "name": "stdout",
     "output_type": "stream",
     "text": [
      "Not tracked cat, ignoring command\n",
      "Not tracked cat, ignoring command\n"
     ]
    },
    {
     "name": "stderr",
     "output_type": "stream",
     "text": [
      "2020-04-23 12:18:45,377 - __main__     - INFO     - {'command': 'send_data', 'name': 'Kitty', 'lat': '50', 'long': '60'}\n",
      "2020-04-23 12:18:45,377 - __main__     - INFO     - {'command': 'send_data', 'name': 'Kitty', 'lat': '50', 'long': '60'}\n",
      "2020-04-23 12:18:46,220 - __main__     - DEBUG    - Incoming message to topic ttm4115/team_1/collar\n",
      "2020-04-23 12:18:46,220 - __main__     - DEBUG    - Incoming message to topic ttm4115/team_1/collar\n",
      "2020-04-23 12:18:46,221 - __main__     - DEBUG    - Incoming message to topic ttm4115/team_1/collar\n",
      "2020-04-23 12:18:46,221 - __main__     - DEBUG    - Incoming message to topic ttm4115/team_1/collar\n"
     ]
    },
    {
     "name": "stdout",
     "output_type": "stream",
     "text": [
      "Not tracked cat, ignoring command\n",
      "Not tracked cat, ignoring command\n"
     ]
    },
    {
     "name": "stderr",
     "output_type": "stream",
     "text": [
      "2020-04-23 12:18:55,382 - __main__     - INFO     - {'command': 'send_data', 'name': 'Kitty', 'lat': '50', 'long': '60'}\n",
      "2020-04-23 12:18:55,382 - __main__     - INFO     - {'command': 'send_data', 'name': 'Kitty', 'lat': '50', 'long': '60'}\n",
      "2020-04-23 12:19:05,385 - __main__     - INFO     - {'command': 'send_data', 'name': 'Kitty', 'lat': '50', 'long': '60'}\n",
      "2020-04-23 12:19:05,385 - __main__     - INFO     - {'command': 'send_data', 'name': 'Kitty', 'lat': '50', 'long': '60'}\n",
      "2020-04-23 12:19:06,848 - __main__     - DEBUG    - Incoming message to topic ttm4115/team_1/collar\n",
      "2020-04-23 12:19:06,848 - __main__     - DEBUG    - Incoming message to topic ttm4115/team_1/collar\n",
      "2020-04-23 12:19:06,848 - __main__     - DEBUG    - Incoming message to topic ttm4115/team_1/collar\n",
      "2020-04-23 12:19:06,848 - __main__     - DEBUG    - Incoming message to topic ttm4115/team_1/collar\n",
      "2020-04-23 12:19:06,891 - __main__     - DEBUG    - Incoming message to topic ttm4115/team_1/collar\n",
      "2020-04-23 12:19:06,891 - __main__     - DEBUG    - Incoming message to topic ttm4115/team_1/collar\n",
      "2020-04-23 12:19:06,891 - __main__     - DEBUG    - Incoming message to topic ttm4115/team_1/collar\n",
      "2020-04-23 12:19:06,891 - __main__     - DEBUG    - Incoming message to topic ttm4115/team_1/collar\n"
     ]
    },
    {
     "name": "stdout",
     "output_type": "stream",
     "text": [
      "Kitty cat is home\n",
      "Kitty cat is home\n",
      "Not tracked cat, ignoring command\n",
      "Not tracked cat, ignoring command\n"
     ]
    }
   ],
   "source": [
    "import paho.mqtt.client as mqtt\n",
    "import logging\n",
    "import json\n",
    "from appJar import gui\n",
    "from stmpy import Machine, Driver\n",
    "\n",
    "# TODO: choose proper MQTT broker address\n",
    "MQTT_BROKER = 'mqtt.item.ntnu.no'\n",
    "MQTT_PORT = 1883\n",
    "\n",
    "# TODO: choose proper topics for communication\n",
    "MQTT_TOPIC_INPUT = 'ttm4115/team_1/collar'\n",
    "MQTT_TOPIC_OUTPUT = 'ttm4115/team_1/server'\n",
    "\n",
    "cat_list= [\"Kitty\",\"Mons\",\"Roger\",\"Purr\"]\n",
    "tracked_cat= \"\"\n",
    "\n",
    "class CollarComponent:\n",
    "\n",
    "    def on_connect(self, client, userdata, flags, rc):\n",
    "        # we just log that we are connected\n",
    "        self._logger.debug('MQTT connected to {}'.format(client))\n",
    "\n",
    "    def on_message(self, client, userdata, msg):\n",
    "        self._logger.debug('Incoming message to topic {}'.format(msg.topic))\n",
    "        try:\n",
    "            payload = json.loads(msg.payload.decode(\"utf-8\"))\n",
    "        except Exception as err:\n",
    "            self._logger.error('Message not able to unwrap')\n",
    "            return\n",
    "        \n",
    "        # extract command\n",
    "        command=payload.get('command')\n",
    "        \n",
    "        if self.tracked_cat==payload.get('name'):\n",
    "            if command == \"cat_in\":\n",
    "                print(payload.get('name') + \" cat is home\")\n",
    "                self.stm.send('cat_in')\n",
    "            if command == \"cat_inside_fence\":\n",
    "                print(payload.get('name') + \" cat is inside fence\")\n",
    "                self.stm.send('inside_fence')\n",
    "            if command == \"cat_outside_fence\":\n",
    "                print(payload.get('name') + \" cat is outside fence\")\n",
    "                self.stm.send('outside_fence')\n",
    "            if command == \"start_tracking\":\n",
    "                print(payload.get('name') + \" cat is tracked\")\n",
    "                self.stm.send('start_tracking')\n",
    "        else:\n",
    "            print(\"Not tracked cat, ignoring command\")\n",
    "    \n",
    "    def publish_command(self, command):\n",
    "        payload = json.dumps(command)\n",
    "        self._logger.info(command)\n",
    "        self.mqtt_client.publish(MQTT_TOPIC_OUTPUT, payload=payload, qos=2)\n",
    "\n",
    "\n",
    "    def __init__(self):\n",
    "        # get the logger object for the component\n",
    "        self._logger = logging.getLogger(__name__)\n",
    "        print('logging under name {}.'.format(__name__))\n",
    "        self._logger.info('Starting Component')\n",
    "\n",
    "        # create a new MQTT client\n",
    "        self._logger.debug('Connecting to MQTT broker {} at port {}'.format(MQTT_BROKER, MQTT_PORT))\n",
    "        self.mqtt_client = mqtt.Client()\n",
    "        # callback methods\n",
    "        self.mqtt_client.on_connect = self.on_connect\n",
    "        self.mqtt_client.on_message = self.on_message\n",
    "        # Connect to the broker\n",
    "        self.mqtt_client.connect(MQTT_BROKER, MQTT_PORT)\n",
    "        # Subscribe to proper topic\n",
    "        self.mqtt_client.subscribe(MQTT_TOPIC_INPUT)\n",
    "        # start the internal loop to process MQTT messages\n",
    "        self.mqtt_client.loop_start()\n",
    "\n",
    "        self.create_gui()\n",
    "        \n",
    "    def create_gui(self):\n",
    "        self.app = gui(\"Collar GUI\")\n",
    "        \n",
    "        def on_button_pressed(button):\n",
    "            self.stm.send('start')\n",
    "            self.tracked_cat= self.app.getRadioButton(\"Gato\")\n",
    "            print('Tracked cat is {} '.format(self.tracked_cat))\n",
    "            self.app.showSubWindow(\"Cat\")\n",
    "            \n",
    "        #Main Window    \n",
    "        for i in cat_list:\n",
    "            self.app.addRadioButton(\"Gato\", '{}'.format(i))\n",
    "        self.app.addButton('Choose Cat', on_button_pressed)\n",
    "        \n",
    "        #Pop up window\n",
    "        self.app.startSubWindow(\"Cat\")\n",
    "        self.app.addLabelEntry(\"Lat\")\n",
    "        self.app.addLabelEntry(\"Long\")\n",
    "        self.app.addButton(\"Update\", on_button_pressed)\n",
    "        self.app.stopSubWindow()\n",
    "    \n",
    "    def test(self):\n",
    "        print(\"starting\")\n",
    "    \n",
    "    def send_data(self):\n",
    "        cat= self.app.getRadioButton(\"Gato\")\n",
    "        lat= self.app.getEntry(\"Lat\")\n",
    "        long= self.app.getEntry(\"Long\")\n",
    "        command= {\"command\":\"send_data\",\"name\":cat, \"lat\":lat, \"long\":long}\n",
    "        self.publish_command(command)\n",
    "        \n",
    "t0 = {'source': 'initial',\n",
    "       'target': 'idle'}\n",
    "\n",
    "t_start = {'trigger': 'start',\n",
    "            'source': 'idle',\n",
    "            'target': 'low_freq',\n",
    "            'effect': 'test'}\n",
    "\n",
    "t1 = {'trigger': 't',\n",
    "       'source': 'low_freq',\n",
    "       'target': 'low_freq',\n",
    "       'effect': 'send_data'}\n",
    "\n",
    "t2 = {'trigger': 'inside_fence',\n",
    "       'source': 'low_freq',\n",
    "       'target': 'norm_freq'}\n",
    "\n",
    "t3 = {'trigger': 't',\n",
    "       'source': 'norm_freq',\n",
    "       'target': 'norm_freq',\n",
    "       'effect': 'send_data'}\n",
    "\n",
    "t4 = {'trigger': 'cat_in',\n",
    "       'source': 'norm_freq',\n",
    "       'target': 'low_freq'}\n",
    "\n",
    "t5 = {'trigger': 'start_tracking',\n",
    "       'source': 'norm_freq',\n",
    "       'target': 'high_freq'}\n",
    "\n",
    "t6 = {'trigger': 'outside_fence',\n",
    "       'source': 'norm_freq',\n",
    "       'target': 'high_freq'}\n",
    "\n",
    "t7 = {'trigger': 't',\n",
    "       'source': 'high_freq',\n",
    "       'target': 'high_freq',\n",
    "       'effect': 'send_data'}\n",
    "\n",
    "t8 = {'trigger': 'cat_in',\n",
    "       'source': 'high_freq',\n",
    "       'target': 'low_freq'}\n",
    "\n",
    "t9 = {'trigger': 'inside_fence',\n",
    "       'source': 'high_freq',\n",
    "       'target': 'norm_freq'}\n",
    "\n",
    "idle = {'name': 'idle'}\n",
    "\n",
    "low_freq = {'name': 'low_freq',\n",
    "        'entry': 'start_timer(\"t\", 10000)'}\n",
    "\n",
    "norm_freq = {'name': 'norm_freq',\n",
    "        'entry': 'start_timer(\"t\", 6000)'}\n",
    "\n",
    "high_freq = {'name': 'high_freq',\n",
    "        'entry': 'start_timer(\"t\", 500)'}\n",
    "\n",
    "\n",
    "debug_level = logging.DEBUG\n",
    "logger = logging.getLogger(__name__)\n",
    "logger.setLevel(debug_level)\n",
    "ch = logging.StreamHandler()\n",
    "ch.setLevel(debug_level)\n",
    "formatter = logging.Formatter('%(asctime)s - %(name)-12s - %(levelname)-8s - %(message)s')\n",
    "ch.setFormatter(formatter)\n",
    "logger.addHandler(ch)\n",
    "\n",
    "c = CollarComponent()\n",
    "\n",
    "stm_collar = Machine(name='stm_collar', transitions=[t0, t_start, t1, t2, t3, t4, t5, t6, t7, t8, t9], obj=c, states=[idle, low_freq, norm_freq, high_freq])\n",
    "c.stm = stm_collar\n",
    "driver = Driver()\n",
    "driver.add_machine(stm_collar)\n",
    "driver.start()\n",
    "\n",
    "c.app.go()"
   ]
  },
  {
   "cell_type": "code",
   "execution_count": null,
   "metadata": {},
   "outputs": [],
   "source": []
  },
  {
   "cell_type": "code",
   "execution_count": null,
   "metadata": {},
   "outputs": [],
   "source": []
  }
 ],
 "metadata": {
  "kernelspec": {
   "display_name": "Python 3",
   "language": "python",
   "name": "python3"
  },
  "language_info": {
   "codemirror_mode": {
    "name": "ipython",
    "version": 3
   },
   "file_extension": ".py",
   "mimetype": "text/x-python",
   "name": "python",
   "nbconvert_exporter": "python",
   "pygments_lexer": "ipython3",
   "version": "3.8.1"
  }
 },
 "nbformat": 4,
 "nbformat_minor": 4
}

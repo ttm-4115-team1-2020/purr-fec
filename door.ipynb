{
 "cells": [
  {
   "cell_type": "markdown",
   "metadata": {},
   "source": [
    "# Door GUI and State Machine\n",
    "\n",
    "This is the implementation of Door component. "
   ]
  },
  {
   "cell_type": "code",
   "execution_count": 1,
   "metadata": {},
   "outputs": [],
   "source": [
    "import paho.mqtt.client as mqtt\n",
    "import logging\n",
    "from threading import Thread\n",
    "import json\n",
    "from appJar import gui\n",
    "from stmpy import Machine, Driver\n",
    "import sqlite3 as sq\n",
    "conn = sq.connect('Door.db')"
   ]
  },
  {
   "cell_type": "code",
   "execution_count": 2,
   "metadata": {},
   "outputs": [
    {
     "data": {
      "text/plain": [
       "<sqlite3.Cursor at 0x2cc9c98a570>"
      ]
     },
     "execution_count": 2,
     "metadata": {},
     "output_type": "execute_result"
    }
   ],
   "source": [
    "##Initialize Database, only run once\n",
    "c=conn.cursor()\n",
    "c.execute('''CREATE TABLE rfids\n",
    "             (rfid TEXT)''')"
   ]
  },
  {
   "cell_type": "code",
   "execution_count": 3,
   "metadata": {},
   "outputs": [
    {
     "name": "stderr",
     "output_type": "stream",
     "text": [
      "2020-04-16 17:05:10,062 - __main__     - INFO     - Starting Component\n",
      "2020-04-16 17:05:10,065 - __main__     - DEBUG    - Connecting to MQTT broker mqtt.item.ntnu.no at port 1883\n",
      "2020-04-16 17:05:10,073 - __main__     - DEBUG    - MQTT connected to <paho.mqtt.client.Client object at 0x000002CC9C9E1160>\n",
      "2020-04-16 17:05:10,073 __main__:DEBUG MQTT connected to <paho.mqtt.client.Client object at 0x000002CC9C9E1160>\n",
      "2020-04-16 17:05:10,208 appJar:WARNING [799/_checkMode]: Interactive mode is not fully tested, some features might not work.\n",
      "2020-04-16 17:05:10,220 appJar:WARNING [810/_checkMode]: iPython is not fully tested, some features might not work.\n"
     ]
    },
    {
     "name": "stdout",
     "output_type": "stream",
     "text": [
      "logging under name __main__.\n"
     ]
    }
   ],
   "source": [
    "# MQTT broker address\n",
    "MQTT_BROKER = 'mqtt.item.ntnu.no'\n",
    "MQTT_PORT = 1883\n",
    "\n",
    "# Topics for communication\n",
    "MQTT_TOPIC_INPUT = 'ttm4115/team_1/door' # {\"rfid\":\"1234\"}\n",
    "MQTT_TOPIC_OUTPUT = 'ttm4115/team_1/server' # {\"command\":push_door,\"rfid\":1234}\n",
    "\n",
    "class DoorComponent:\n",
    "\n",
    "    def on_connect(self, client, userdata, flags, rc):\n",
    "        # we just log that we are connected\n",
    "        self._logger.debug('MQTT connected to {}'.format(client))\n",
    "\n",
    "    def on_message(self, client, userdata, msg):\n",
    "        pass\n",
    "\n",
    "    def __init__(self):\n",
    "        # get the logger object for the component\n",
    "        self._logger = logging.getLogger(__name__)\n",
    "        print('logging under name {}.'.format(__name__))\n",
    "        self._logger.info('Starting Component')\n",
    "\n",
    "        # create a new MQTT client\n",
    "        self._logger.debug('Connecting to MQTT broker {} at port {}'.format(MQTT_BROKER, MQTT_PORT))\n",
    "        self.mqtt_client = mqtt.Client()\n",
    "        # callback methods\n",
    "        self.mqtt_client.on_connect = self.on_connect\n",
    "        self.mqtt_client.on_message = self.on_message\n",
    "        # Connect to the broker\n",
    "        self.mqtt_client.connect(MQTT_BROKER, MQTT_PORT)\n",
    "        # start the internal loop to process MQTT messages\n",
    "        self.mqtt_client.loop_start()\n",
    "\n",
    "        self.create_gui()\n",
    "        \n",
    "    def create_gui(self):\n",
    "        self.app = gui(\"Door GUI\")\n",
    "        self.app.setStretch(\"both\")\n",
    "        self.app.setSticky(\"nesw\")\n",
    "\n",
    "        def publish_command(command):\n",
    "            payload = json.dumps(command)\n",
    "            self._logger.info(command)\n",
    "            self.mqtt_client.publish(MQTT_TOPIC_INPUT, payload=payload, qos=2)\n",
    "        \n",
    "        self.app.startLabelFrame('Door Status')\n",
    "        self.app.setStretch(\"both\")\n",
    "        self.app.setSticky(\"nesw\")\n",
    "        self.app.addLabel('title1', 'Locked')\n",
    "        self.app.setLabelBg(\"title1\", \"red\")\n",
    "        self.app.addLabel('title2', 'Closed')\n",
    "        self.app.setLabelBg(\"title2\", \"red\")\n",
    "        self.app.stopLabelFrame()\n",
    "\n",
    "        self.app.startLabelFrame('Door Interactions')\n",
    "        self.app.setStretch(\"both\")\n",
    "        self.app.setSticky(\"nesw\")\n",
    "        self.app.addLabelEntry(\"RFID\")\n",
    "        def on_button_pressed_proximity(button):\n",
    "            rfidValue = self.app.getEntry(\"RFID\") \n",
    "            if rfidValue == \"1234\":\n",
    "                self.stm.send('rfid')\n",
    "            else:\n",
    "                self.app.infoBox(\"Wrong cat!\", \"An unknown RFID has been detected, the door will not open.\", parent=None)\n",
    "        self.app.addButton('A cat\\'s RFID is detected', on_button_pressed_proximity)\n",
    "        def on_button_pressed_push(button):\n",
    "            self.stm.send('door_pushed')\n",
    "        self.app.addButton('The cat pushes the door', on_button_pressed_push)\n",
    "        def on_button_pressed_close(button):\n",
    "            self.stm.send('door_closed')\n",
    "            self.app.setLabel('title2', 'Closed')\n",
    "            self.app.setLabelBg(\"title2\", \"red\")\n",
    "        self.app.addButton('The door closes', on_button_pressed_close)\n",
    "        self.app.stopLabelFrame()\n",
    "        def terminate():\n",
    "            self.stm.terminate()\n",
    "            return True\n",
    "        self.app.setStopFunction(terminate)\n",
    "    \n",
    "    def unlock(self):\n",
    "        self.app.setLabel('title1', 'Unlocked')\n",
    "        self.app.setLabelBg(\"title1\", \"green\")\n",
    "    \n",
    "    def door_opened(self):\n",
    "        self.app.setLabel('title2', 'Opened')\n",
    "        self.app.setLabelBg(\"title2\", \"green\")\n",
    "    \n",
    "    def lock(self):\n",
    "        self.app.setLabel('title1', 'Locked')\n",
    "        self.app.setLabelBg(\"title1\", \"red\")\n",
    "        \n",
    " \n",
    "t0 = {'source': 'initial', 'target': 'closed_locked'}\n",
    "t1 = {'trigger': 'rfid', 'source': 'closed_locked', 'target': 'closed_unlocked',\n",
    "      'effect': 'unlock; start_timer(\"t\", \"5000\")'}\n",
    "t2 = {'trigger': 'door_pushed', 'source': 'closed_unlocked', 'target': 'open_unlocked',\n",
    "      'effect': 'stop_timer(\"t\"); door_opened'}\n",
    "t3 = {'trigger': 'door_closed', 'source': 'open_unlocked', 'target': 'closed_unlocked',\n",
    "      'effect': 'start_timer(\"t\", \"5000\")'}\n",
    "t4 = {'trigger': 't', 'source': 'closed_unlocked', 'target': 'closed_locked',\n",
    "      'effect': 'lock'}\n",
    "\n",
    "s1 = {'name': 'closed_locked',\n",
    "      'entry': 'lock'}\n",
    "s2 = {'name': 'closed_unlocked'}\n",
    "s3 = {'name': 'open_unlocked'}\n",
    "\n",
    "# logging.DEBUG: Most fine-grained logging, printing everything\n",
    "# logging.INFO:  Only the most important informational log items\n",
    "# logging.WARN:  Show only warnings and errors.\n",
    "# logging.ERROR: Show only error messages.\n",
    "debug_level = logging.DEBUG\n",
    "logger = logging.getLogger(__name__)\n",
    "logger.setLevel(debug_level)\n",
    "ch = logging.StreamHandler()\n",
    "ch.setLevel(debug_level)\n",
    "formatter = logging.Formatter('%(asctime)s - %(name)-12s - %(levelname)-8s - %(message)s')\n",
    "ch.setFormatter(formatter)\n",
    "logger.addHandler(ch)\n",
    "\n",
    "d = DoorComponent()\n",
    "\n",
    "stm_door = Machine(name='stm_door', transitions=[t0, t1, t2, t3, t4], obj=d, states=[s1, s2, s3])\n",
    "d.stm = stm_door\n",
    "driver = Driver()\n",
    "driver.add_machine(stm_door)\n",
    "driver.start()\n",
    "\n",
    "d.app.go()"
   ]
  },
  {
   "cell_type": "code",
   "execution_count": null,
   "metadata": {},
   "outputs": [],
   "source": []
  }
 ],
 "metadata": {
  "kernelspec": {
   "display_name": "Python 3",
   "language": "python",
   "name": "python3"
  },
  "language_info": {
   "codemirror_mode": {
    "name": "ipython",
    "version": 3
   },
   "file_extension": ".py",
   "mimetype": "text/x-python",
   "name": "python",
   "nbconvert_exporter": "python",
   "pygments_lexer": "ipython3",
   "version": "3.8.1"
  }
 },
 "nbformat": 4,
 "nbformat_minor": 2
}
